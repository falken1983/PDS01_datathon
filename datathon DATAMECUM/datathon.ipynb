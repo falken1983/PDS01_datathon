{
  "cells": [
    {
      "cell_type": "markdown",
      "metadata": {
        "id": "PFhloxEr5Q7N"
      },
      "source": [
        "## Predicción de fugas de clientes en una compañía telefónica"
      ]
    },
    {
      "cell_type": "markdown",
      "metadata": {
        "id": "LS2OnaVx5Q7U"
      },
      "source": [
        "Una compañía telefónica está interesada en que desarrollemos un modelo que prediga los clientes que tienen más probabilidad de abandonar la compañía. Para ello nos proporcionan una base de datos, **fuga_clientes_empresa_telefonica_construccion.csv**, con casos etiquetados.\n",
        "\n",
        "Los campos de esta base de datos son:\n",
        "\n",
        "* **Customer ID**\n",
        "* **network_age**\n",
        "* **Customer tenure in months:** tiempo transcurrido en meses desde que el suscriptor comenzó a utilizar los servicios del proveedor de la red\n",
        "* **Total Spend in Months 1 and 2 of 2017:** gasto total del cliente en los meses de julio y agosto de 2017\n",
        "* **Total SMS Spend:** gasto total en SMS\n",
        "* **Total Data Spend:** gasto total en datos/internet\n",
        "* **Total Data Consumption:** consumo total de datos (en KB) durante el período de estudio\n",
        "* **Total Unique Calls:** número total de llamadas únicas \n",
        "* **Total Onnet spend:** gasto total en llamadas a otros usuarios de la misma red de telefonía\n",
        "* **Total Offnet spend:** gasto total en llamadas a otros usuarios de redes de telefonía diferentes\n",
        "* **Total Call centre complaint calls:** número de llamadas de queja al call center\n",
        "* **Network type subscription in Month 1:** suscripción de tipo de red en el mes 1. Esto indica la suscripción de red preferida de un cliente, lo que puede indicar su tipo de dispositivo: servicio 2G o 3G\n",
        "* **Network type subscription in Month 2:** igual que el anterior pero en el mes posterior\n",
        "* **Most Loved Competitor network in in Month 1:** qué otro proveedor de la competencia prefiere el cliente en el mes 1\n",
        "* **Most Loved Competitor network in in Month 2:** qué otro proveedor de la competencia prefiere el cliente en el mes 2\n",
        "* **Churn Status**: el valor es 1 si el cliente abandona la compañía telefónica, 0 si permanece en ella\n",
        "\n",
        "La variable a predecir es **Churn Status**: el valor es 1 si el cliente **abandona** la compañía, 0 si no la abandona.\n",
        "\n",
        "La compañía también nos proporciona otra base de datos, **fuga_clientes_empresa_telefonica_explotacion.csv**, con información sobre clientes de los que no se sabe ahora mismo si van a permanecer o no en la compañía. Por tanto en esta segunda base de datos todos los valores de la columna **Churn Status** son missing values (NaN).\n",
        "\n",
        "La compañía nos pide que proporcionemos los IDs de 100 clientes de la base de datos de explotación que vayan a abandonar la compañía. Para ello proporcionaremos como entregable a la compañía un archivo csv con una sola columna, **Customer ID**, y 100 filas que contengan los IDs de los clientes seleccionados."
      ]
    },
    {
      "cell_type": "code",
      "execution_count": 1,
      "metadata": {
        "id": "SQmYt2Ep5Q7V"
      },
      "outputs": [],
      "source": [
        "import numpy as np\n",
        "import pandas as pd\n",
        "\n",
        "import seaborn as sns\n",
        "import matplotlib.pyplot as plt\n",
        "%matplotlib inline"
      ]
    },
    {
      "cell_type": "code",
      "execution_count": 3,
      "metadata": {},
      "outputs": [
        {
          "data": {
            "text/plain": [
              "'/home/hcf/Documentos/PDS01/datathon DATAMECUM'"
            ]
          },
          "execution_count": 3,
          "metadata": {},
          "output_type": "execute_result"
        }
      ],
      "source": [
        "%pwd"
      ]
    },
    {
      "cell_type": "code",
      "execution_count": 5,
      "metadata": {
        "id": "iWdvBREo5Q7X"
      },
      "outputs": [],
      "source": [
        "data = pd.read_csv(\n",
        " \"./fuga_clientes_empresa_telefonica_construccion.csv\"\n",
        ")"
      ]
    },
    {
      "cell_type": "code",
      "execution_count": 6,
      "metadata": {},
      "outputs": [
        {
          "data": {
            "text/plain": [
              "Customer ID                                     0\n",
              "network_age                                     0\n",
              "Customer tenure in month                        0\n",
              "Total Spend in Months 1 and 2 of 2017           0\n",
              "Total SMS Spend                                 0\n",
              "Total Data Spend                                0\n",
              "Total Data Consumption                          0\n",
              "Total Unique Calls                              0\n",
              "Total Onnet spend                               0\n",
              "Total Offnet spend                              0\n",
              "Total Call centre complaint calls               0\n",
              "Network type subscription in Month 1            0\n",
              "Network type subscription in Month 2           22\n",
              "Most Loved Competitor network in in Month 1     1\n",
              "Most Loved Competitor network in in Month 2     1\n",
              "Churn Status                                    0\n",
              "dtype: int64"
            ]
          },
          "execution_count": 6,
          "metadata": {},
          "output_type": "execute_result"
        }
      ],
      "source": [
        "data.isna().sum()"
      ]
    },
    {
      "cell_type": "code",
      "execution_count": 7,
      "metadata": {},
      "outputs": [
        {
          "data": {
            "text/plain": [
              "1111"
            ]
          },
          "execution_count": 7,
          "metadata": {},
          "output_type": "execute_result"
        }
      ],
      "source": [
        "data.shape[0]"
      ]
    },
    {
      "cell_type": "code",
      "execution_count": null,
      "metadata": {},
      "outputs": [],
      "source": []
    }
  ],
  "metadata": {
    "colab": {
      "name": "datathon.ipynb",
      "provenance": []
    },
    "kernelspec": {
      "display_name": "supervisedML",
      "language": "python",
      "name": "python3"
    },
    "language_info": {
      "codemirror_mode": {
        "name": "ipython",
        "version": 3
      },
      "file_extension": ".py",
      "mimetype": "text/x-python",
      "name": "python",
      "nbconvert_exporter": "python",
      "pygments_lexer": "ipython3",
      "version": "3.9.15"
    },
    "vscode": {
      "interpreter": {
        "hash": "674591cb1dbd955f701731e7f2b9c45ee0707abc4d7783046a7387949d74d4bd"
      }
    }
  },
  "nbformat": 4,
  "nbformat_minor": 0
}
