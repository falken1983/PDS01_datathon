{
 "cells": [
  {
   "attachments": {},
   "cell_type": "markdown",
   "metadata": {},
   "source": [
    "## `\"Optuned\"` `LightGBM ` Notebook Handler"
   ]
  },
  {
   "cell_type": "code",
   "execution_count": 2,
   "metadata": {},
   "outputs": [],
   "source": [
    "import pandas as pd\n",
    "import numpy as np\n",
    "import matplotlib.pyplot as plt\n",
    "\n",
    "from sklearn.compose import ColumnTransformer\n",
    "from sklearn.preprocessing import PowerTransformer, StandardScaler, RobustScaler\n",
    "\n",
    "import joblib"
   ]
  },
  {
   "attachments": {},
   "cell_type": "markdown",
   "metadata": {},
   "source": [
    "### 1 Carga de Datos\n",
    "\n",
    "Carga de datos. Los datos no contienen valores faltantes ni anómalos puesto que han sido tratados en `datathon_worked`. Las distribuciones de las características numéricas tienen una gran asimetría positiva con abundancia de datos atípicos, pero serán tratados mediante el scl `PowerTransformer()` de manera que estén más constreñidas y a una escala similar."
   ]
  },
  {
   "cell_type": "code",
   "execution_count": 2,
   "metadata": {},
   "outputs": [
    {
     "data": {
      "text/html": [
       "<div>\n",
       "<style scoped>\n",
       "    .dataframe tbody tr th:only-of-type {\n",
       "        vertical-align: middle;\n",
       "    }\n",
       "\n",
       "    .dataframe tbody tr th {\n",
       "        vertical-align: top;\n",
       "    }\n",
       "\n",
       "    .dataframe thead th {\n",
       "        text-align: right;\n",
       "    }\n",
       "</style>\n",
       "<table border=\"1\" class=\"dataframe\">\n",
       "  <thead>\n",
       "    <tr style=\"text-align: right;\">\n",
       "      <th></th>\n",
       "      <th>Customer ID</th>\n",
       "      <th>network_age</th>\n",
       "      <th>tenure</th>\n",
       "      <th>spend_mo12</th>\n",
       "      <th>sms_spend</th>\n",
       "      <th>data_spend</th>\n",
       "      <th>data_consume</th>\n",
       "      <th>calls</th>\n",
       "      <th>onnet_spend</th>\n",
       "      <th>offnet_spend</th>\n",
       "      <th>complaint_calls</th>\n",
       "      <th>net_type_mo1</th>\n",
       "      <th>net_type_mo2</th>\n",
       "      <th>competitor_mo1</th>\n",
       "      <th>competitor_mo2</th>\n",
       "      <th>Churn Status</th>\n",
       "    </tr>\n",
       "  </thead>\n",
       "  <tbody>\n",
       "    <tr>\n",
       "      <th>0</th>\n",
       "      <td>ADF0039</td>\n",
       "      <td>123</td>\n",
       "      <td>4.10</td>\n",
       "      <td>76.7140</td>\n",
       "      <td>0.00</td>\n",
       "      <td>1.25</td>\n",
       "      <td>1.4951</td>\n",
       "      <td>14</td>\n",
       "      <td>564</td>\n",
       "      <td>6408</td>\n",
       "      <td>2</td>\n",
       "      <td>2G</td>\n",
       "      <td>2G</td>\n",
       "      <td>Uxaa</td>\n",
       "      <td>Mango</td>\n",
       "      <td>0</td>\n",
       "    </tr>\n",
       "    <tr>\n",
       "      <th>1</th>\n",
       "      <td>ADF0041</td>\n",
       "      <td>1316</td>\n",
       "      <td>43.87</td>\n",
       "      <td>98.8904</td>\n",
       "      <td>4.14</td>\n",
       "      <td>1.25</td>\n",
       "      <td>1.0244</td>\n",
       "      <td>27</td>\n",
       "      <td>1626</td>\n",
       "      <td>4373</td>\n",
       "      <td>1</td>\n",
       "      <td>2G</td>\n",
       "      <td>2G</td>\n",
       "      <td>Uxaa</td>\n",
       "      <td>Mango</td>\n",
       "      <td>0</td>\n",
       "    </tr>\n",
       "    <tr>\n",
       "      <th>2</th>\n",
       "      <td>ADF0051</td>\n",
       "      <td>2385</td>\n",
       "      <td>79.50</td>\n",
       "      <td>372.6300</td>\n",
       "      <td>3.51</td>\n",
       "      <td>1.25</td>\n",
       "      <td>6.0898</td>\n",
       "      <td>119</td>\n",
       "      <td>10411</td>\n",
       "      <td>22039</td>\n",
       "      <td>1</td>\n",
       "      <td>2G</td>\n",
       "      <td>2G</td>\n",
       "      <td>Weematel</td>\n",
       "      <td>Mango</td>\n",
       "      <td>0</td>\n",
       "    </tr>\n",
       "    <tr>\n",
       "      <th>3</th>\n",
       "      <td>ADF0060</td>\n",
       "      <td>2175</td>\n",
       "      <td>72.50</td>\n",
       "      <td>554.1300</td>\n",
       "      <td>6.99</td>\n",
       "      <td>153.75</td>\n",
       "      <td>673204.0342</td>\n",
       "      <td>33</td>\n",
       "      <td>3387</td>\n",
       "      <td>7241</td>\n",
       "      <td>1</td>\n",
       "      <td>2G</td>\n",
       "      <td>3G</td>\n",
       "      <td>Weematel</td>\n",
       "      <td>Mango</td>\n",
       "      <td>0</td>\n",
       "    </tr>\n",
       "    <tr>\n",
       "      <th>4</th>\n",
       "      <td>ADF0066</td>\n",
       "      <td>158</td>\n",
       "      <td>5.27</td>\n",
       "      <td>792.1144</td>\n",
       "      <td>28.63</td>\n",
       "      <td>108.75</td>\n",
       "      <td>107713.5820</td>\n",
       "      <td>101</td>\n",
       "      <td>7296</td>\n",
       "      <td>16636</td>\n",
       "      <td>1</td>\n",
       "      <td>2G</td>\n",
       "      <td>2G</td>\n",
       "      <td>Uxaa</td>\n",
       "      <td>Mango</td>\n",
       "      <td>0</td>\n",
       "    </tr>\n",
       "  </tbody>\n",
       "</table>\n",
       "</div>"
      ],
      "text/plain": [
       "  Customer ID  network_age  tenure  spend_mo12  sms_spend  data_spend  \\\n",
       "0     ADF0039          123    4.10     76.7140       0.00        1.25   \n",
       "1     ADF0041         1316   43.87     98.8904       4.14        1.25   \n",
       "2     ADF0051         2385   79.50    372.6300       3.51        1.25   \n",
       "3     ADF0060         2175   72.50    554.1300       6.99      153.75   \n",
       "4     ADF0066          158    5.27    792.1144      28.63      108.75   \n",
       "\n",
       "   data_consume  calls  onnet_spend  offnet_spend  complaint_calls  \\\n",
       "0        1.4951     14          564          6408                2   \n",
       "1        1.0244     27         1626          4373                1   \n",
       "2        6.0898    119        10411         22039                1   \n",
       "3   673204.0342     33         3387          7241                1   \n",
       "4   107713.5820    101         7296         16636                1   \n",
       "\n",
       "  net_type_mo1 net_type_mo2 competitor_mo1 competitor_mo2  Churn Status  \n",
       "0           2G           2G           Uxaa          Mango             0  \n",
       "1           2G           2G           Uxaa          Mango             0  \n",
       "2           2G           2G       Weematel          Mango             0  \n",
       "3           2G           3G       Weematel          Mango             0  \n",
       "4           2G           2G           Uxaa          Mango             0  "
      ]
     },
     "execution_count": 2,
     "metadata": {},
     "output_type": "execute_result"
    }
   ],
   "source": [
    "data_raw = pd.read_csv(\n",
    "    \"./cleaned_telcom_churn_construction.csv\"\n",
    ")\n",
    "data_raw.head()"
   ]
  },
  {
   "cell_type": "code",
   "execution_count": 9,
   "metadata": {},
   "outputs": [
    {
     "data": {
      "text/html": [
       "<div>\n",
       "<style scoped>\n",
       "    .dataframe tbody tr th:only-of-type {\n",
       "        vertical-align: middle;\n",
       "    }\n",
       "\n",
       "    .dataframe tbody tr th {\n",
       "        vertical-align: top;\n",
       "    }\n",
       "\n",
       "    .dataframe thead th {\n",
       "        text-align: right;\n",
       "    }\n",
       "</style>\n",
       "<table border=\"1\" class=\"dataframe\">\n",
       "  <thead>\n",
       "    <tr style=\"text-align: right;\">\n",
       "      <th></th>\n",
       "      <th>Customer ID</th>\n",
       "      <th>network_age</th>\n",
       "      <th>tenure</th>\n",
       "      <th>spend_mo12</th>\n",
       "      <th>sms_spend</th>\n",
       "      <th>data_spend</th>\n",
       "      <th>data_consume</th>\n",
       "      <th>calls</th>\n",
       "      <th>onnet_spend</th>\n",
       "      <th>offnet_spend</th>\n",
       "      <th>complaint_calls</th>\n",
       "      <th>net_type_mo1</th>\n",
       "      <th>net_type_mo2</th>\n",
       "      <th>competitor_mo1</th>\n",
       "      <th>competitor_mo2</th>\n",
       "    </tr>\n",
       "  </thead>\n",
       "  <tbody>\n",
       "    <tr>\n",
       "      <th>0</th>\n",
       "      <td>ADF0039</td>\n",
       "      <td>123</td>\n",
       "      <td>4.10</td>\n",
       "      <td>76.7140</td>\n",
       "      <td>0.00</td>\n",
       "      <td>1.25</td>\n",
       "      <td>1.4951</td>\n",
       "      <td>14</td>\n",
       "      <td>564</td>\n",
       "      <td>6408</td>\n",
       "      <td>2</td>\n",
       "      <td>2G</td>\n",
       "      <td>2G</td>\n",
       "      <td>Uxaa</td>\n",
       "      <td>Mango</td>\n",
       "    </tr>\n",
       "    <tr>\n",
       "      <th>1</th>\n",
       "      <td>ADF0041</td>\n",
       "      <td>1316</td>\n",
       "      <td>43.87</td>\n",
       "      <td>98.8904</td>\n",
       "      <td>4.14</td>\n",
       "      <td>1.25</td>\n",
       "      <td>1.0244</td>\n",
       "      <td>27</td>\n",
       "      <td>1626</td>\n",
       "      <td>4373</td>\n",
       "      <td>1</td>\n",
       "      <td>2G</td>\n",
       "      <td>2G</td>\n",
       "      <td>Uxaa</td>\n",
       "      <td>Mango</td>\n",
       "    </tr>\n",
       "    <tr>\n",
       "      <th>2</th>\n",
       "      <td>ADF0051</td>\n",
       "      <td>2385</td>\n",
       "      <td>79.50</td>\n",
       "      <td>372.6300</td>\n",
       "      <td>3.51</td>\n",
       "      <td>1.25</td>\n",
       "      <td>6.0898</td>\n",
       "      <td>119</td>\n",
       "      <td>10411</td>\n",
       "      <td>22039</td>\n",
       "      <td>1</td>\n",
       "      <td>2G</td>\n",
       "      <td>2G</td>\n",
       "      <td>Weematel</td>\n",
       "      <td>Mango</td>\n",
       "    </tr>\n",
       "    <tr>\n",
       "      <th>3</th>\n",
       "      <td>ADF0060</td>\n",
       "      <td>2175</td>\n",
       "      <td>72.50</td>\n",
       "      <td>554.1300</td>\n",
       "      <td>6.99</td>\n",
       "      <td>153.75</td>\n",
       "      <td>673204.0342</td>\n",
       "      <td>33</td>\n",
       "      <td>3387</td>\n",
       "      <td>7241</td>\n",
       "      <td>1</td>\n",
       "      <td>2G</td>\n",
       "      <td>3G</td>\n",
       "      <td>Weematel</td>\n",
       "      <td>Mango</td>\n",
       "    </tr>\n",
       "    <tr>\n",
       "      <th>4</th>\n",
       "      <td>ADF0066</td>\n",
       "      <td>158</td>\n",
       "      <td>5.27</td>\n",
       "      <td>792.1144</td>\n",
       "      <td>28.63</td>\n",
       "      <td>108.75</td>\n",
       "      <td>107713.5820</td>\n",
       "      <td>101</td>\n",
       "      <td>7296</td>\n",
       "      <td>16636</td>\n",
       "      <td>1</td>\n",
       "      <td>2G</td>\n",
       "      <td>2G</td>\n",
       "      <td>Uxaa</td>\n",
       "      <td>Mango</td>\n",
       "    </tr>\n",
       "    <tr>\n",
       "      <th>...</th>\n",
       "      <td>...</td>\n",
       "      <td>...</td>\n",
       "      <td>...</td>\n",
       "      <td>...</td>\n",
       "      <td>...</td>\n",
       "      <td>...</td>\n",
       "      <td>...</td>\n",
       "      <td>...</td>\n",
       "      <td>...</td>\n",
       "      <td>...</td>\n",
       "      <td>...</td>\n",
       "      <td>...</td>\n",
       "      <td>...</td>\n",
       "      <td>...</td>\n",
       "      <td>...</td>\n",
       "    </tr>\n",
       "    <tr>\n",
       "      <th>1051</th>\n",
       "      <td>ADF1290</td>\n",
       "      <td>3994</td>\n",
       "      <td>133.13</td>\n",
       "      <td>804.0848</td>\n",
       "      <td>7.00</td>\n",
       "      <td>0.00</td>\n",
       "      <td>2364.6768</td>\n",
       "      <td>127</td>\n",
       "      <td>30071</td>\n",
       "      <td>8091</td>\n",
       "      <td>2</td>\n",
       "      <td>Other</td>\n",
       "      <td>Other</td>\n",
       "      <td>PQza</td>\n",
       "      <td>Uxaa</td>\n",
       "    </tr>\n",
       "    <tr>\n",
       "      <th>1052</th>\n",
       "      <td>ADF1302</td>\n",
       "      <td>731</td>\n",
       "      <td>24.37</td>\n",
       "      <td>828.7404</td>\n",
       "      <td>3.52</td>\n",
       "      <td>2.50</td>\n",
       "      <td>35674.9864</td>\n",
       "      <td>660</td>\n",
       "      <td>10912</td>\n",
       "      <td>20756</td>\n",
       "      <td>7</td>\n",
       "      <td>Other</td>\n",
       "      <td>Other</td>\n",
       "      <td>PQza</td>\n",
       "      <td>Uxaa</td>\n",
       "    </tr>\n",
       "    <tr>\n",
       "      <th>1053</th>\n",
       "      <td>ADF1304</td>\n",
       "      <td>2971</td>\n",
       "      <td>99.03</td>\n",
       "      <td>832.7248</td>\n",
       "      <td>9.62</td>\n",
       "      <td>2.50</td>\n",
       "      <td>103008.5605</td>\n",
       "      <td>224</td>\n",
       "      <td>37401</td>\n",
       "      <td>29553</td>\n",
       "      <td>3</td>\n",
       "      <td>Other</td>\n",
       "      <td>Other</td>\n",
       "      <td>ToCall</td>\n",
       "      <td>Uxaa</td>\n",
       "    </tr>\n",
       "    <tr>\n",
       "      <th>1054</th>\n",
       "      <td>ADF1308</td>\n",
       "      <td>595</td>\n",
       "      <td>19.83</td>\n",
       "      <td>839.5724</td>\n",
       "      <td>73.80</td>\n",
       "      <td>8.75</td>\n",
       "      <td>229.4463</td>\n",
       "      <td>102</td>\n",
       "      <td>21304</td>\n",
       "      <td>7894</td>\n",
       "      <td>1</td>\n",
       "      <td>Other</td>\n",
       "      <td>Other</td>\n",
       "      <td>Uxaa</td>\n",
       "      <td>Uxaa</td>\n",
       "    </tr>\n",
       "    <tr>\n",
       "      <th>1055</th>\n",
       "      <td>ADF1313</td>\n",
       "      <td>1419</td>\n",
       "      <td>47.30</td>\n",
       "      <td>843.0604</td>\n",
       "      <td>23.10</td>\n",
       "      <td>13.75</td>\n",
       "      <td>510439.3584</td>\n",
       "      <td>210</td>\n",
       "      <td>9952</td>\n",
       "      <td>4446</td>\n",
       "      <td>1</td>\n",
       "      <td>Other</td>\n",
       "      <td>Other</td>\n",
       "      <td>Uxaa</td>\n",
       "      <td>Uxaa</td>\n",
       "    </tr>\n",
       "  </tbody>\n",
       "</table>\n",
       "<p>1056 rows × 15 columns</p>\n",
       "</div>"
      ],
      "text/plain": [
       "     Customer ID  network_age  tenure  spend_mo12  sms_spend  data_spend  \\\n",
       "0        ADF0039          123    4.10     76.7140       0.00        1.25   \n",
       "1        ADF0041         1316   43.87     98.8904       4.14        1.25   \n",
       "2        ADF0051         2385   79.50    372.6300       3.51        1.25   \n",
       "3        ADF0060         2175   72.50    554.1300       6.99      153.75   \n",
       "4        ADF0066          158    5.27    792.1144      28.63      108.75   \n",
       "...          ...          ...     ...         ...        ...         ...   \n",
       "1051     ADF1290         3994  133.13    804.0848       7.00        0.00   \n",
       "1052     ADF1302          731   24.37    828.7404       3.52        2.50   \n",
       "1053     ADF1304         2971   99.03    832.7248       9.62        2.50   \n",
       "1054     ADF1308          595   19.83    839.5724      73.80        8.75   \n",
       "1055     ADF1313         1419   47.30    843.0604      23.10       13.75   \n",
       "\n",
       "      data_consume  calls  onnet_spend  offnet_spend  complaint_calls  \\\n",
       "0           1.4951     14          564          6408                2   \n",
       "1           1.0244     27         1626          4373                1   \n",
       "2           6.0898    119        10411         22039                1   \n",
       "3      673204.0342     33         3387          7241                1   \n",
       "4      107713.5820    101         7296         16636                1   \n",
       "...            ...    ...          ...           ...              ...   \n",
       "1051     2364.6768    127        30071          8091                2   \n",
       "1052    35674.9864    660        10912         20756                7   \n",
       "1053   103008.5605    224        37401         29553                3   \n",
       "1054      229.4463    102        21304          7894                1   \n",
       "1055   510439.3584    210         9952          4446                1   \n",
       "\n",
       "     net_type_mo1 net_type_mo2 competitor_mo1 competitor_mo2  \n",
       "0              2G           2G           Uxaa          Mango  \n",
       "1              2G           2G           Uxaa          Mango  \n",
       "2              2G           2G       Weematel          Mango  \n",
       "3              2G           3G       Weematel          Mango  \n",
       "4              2G           2G           Uxaa          Mango  \n",
       "...           ...          ...            ...            ...  \n",
       "1051        Other        Other           PQza           Uxaa  \n",
       "1052        Other        Other           PQza           Uxaa  \n",
       "1053        Other        Other         ToCall           Uxaa  \n",
       "1054        Other        Other           Uxaa           Uxaa  \n",
       "1055        Other        Other           Uxaa           Uxaa  \n",
       "\n",
       "[1056 rows x 15 columns]"
      ]
     },
     "execution_count": 9,
     "metadata": {},
     "output_type": "execute_result"
    }
   ],
   "source": [
    "X = data_raw.iloc[:,:-1]\n",
    "y = data_raw[[data_raw.columns.tolist()[-1]]]\n",
    "\n",
    "X"
   ]
  },
  {
   "cell_type": "code",
   "execution_count": 10,
   "metadata": {},
   "outputs": [
    {
     "data": {
      "text/html": [
       "<div>\n",
       "<style scoped>\n",
       "    .dataframe tbody tr th:only-of-type {\n",
       "        vertical-align: middle;\n",
       "    }\n",
       "\n",
       "    .dataframe tbody tr th {\n",
       "        vertical-align: top;\n",
       "    }\n",
       "\n",
       "    .dataframe thead th {\n",
       "        text-align: right;\n",
       "    }\n",
       "</style>\n",
       "<table border=\"1\" class=\"dataframe\">\n",
       "  <thead>\n",
       "    <tr style=\"text-align: right;\">\n",
       "      <th></th>\n",
       "      <th>Churn Status</th>\n",
       "    </tr>\n",
       "  </thead>\n",
       "  <tbody>\n",
       "    <tr>\n",
       "      <th>0</th>\n",
       "      <td>0</td>\n",
       "    </tr>\n",
       "    <tr>\n",
       "      <th>1</th>\n",
       "      <td>0</td>\n",
       "    </tr>\n",
       "    <tr>\n",
       "      <th>2</th>\n",
       "      <td>0</td>\n",
       "    </tr>\n",
       "    <tr>\n",
       "      <th>3</th>\n",
       "      <td>0</td>\n",
       "    </tr>\n",
       "    <tr>\n",
       "      <th>4</th>\n",
       "      <td>0</td>\n",
       "    </tr>\n",
       "    <tr>\n",
       "      <th>...</th>\n",
       "      <td>...</td>\n",
       "    </tr>\n",
       "    <tr>\n",
       "      <th>1051</th>\n",
       "      <td>0</td>\n",
       "    </tr>\n",
       "    <tr>\n",
       "      <th>1052</th>\n",
       "      <td>0</td>\n",
       "    </tr>\n",
       "    <tr>\n",
       "      <th>1053</th>\n",
       "      <td>0</td>\n",
       "    </tr>\n",
       "    <tr>\n",
       "      <th>1054</th>\n",
       "      <td>0</td>\n",
       "    </tr>\n",
       "    <tr>\n",
       "      <th>1055</th>\n",
       "      <td>0</td>\n",
       "    </tr>\n",
       "  </tbody>\n",
       "</table>\n",
       "<p>1056 rows × 1 columns</p>\n",
       "</div>"
      ],
      "text/plain": [
       "      Churn Status\n",
       "0                0\n",
       "1                0\n",
       "2                0\n",
       "3                0\n",
       "4                0\n",
       "...            ...\n",
       "1051             0\n",
       "1052             0\n",
       "1053             0\n",
       "1054             0\n",
       "1055             0\n",
       "\n",
       "[1056 rows x 1 columns]"
      ]
     },
     "execution_count": 10,
     "metadata": {},
     "output_type": "execute_result"
    }
   ],
   "source": [
    "y"
   ]
  },
  {
   "attachments": {},
   "cell_type": "markdown",
   "metadata": {},
   "source": [
    "*  `ColumnTransformer()` (Flexible Transformer for Hybrid Schemes) preparation:\n",
    "\n",
    "    1. Dropping mute variable `Customer ID` \n",
    "    2. Dropping `network_age` and `spend_mo12` explained by other numerical features\n",
    "    3. Power Transforming (Box-Cox type) numerical features except `complaint_calls` (pass-through)\n",
    "    4. Dropping categorical variables"
   ]
  },
  {
   "cell_type": "code",
   "execution_count": 15,
   "metadata": {},
   "outputs": [
    {
     "data": {
      "text/plain": [
       "['network_age',\n",
       " 'tenure',\n",
       " 'spend_mo12',\n",
       " 'sms_spend',\n",
       " 'data_spend',\n",
       " 'data_consume',\n",
       " 'calls',\n",
       " 'onnet_spend',\n",
       " 'offnet_spend',\n",
       " 'complaint_calls']"
      ]
     },
     "execution_count": 15,
     "metadata": {},
     "output_type": "execute_result"
    }
   ],
   "source": [
    "numerical_features = X.select_dtypes(\"number\").columns.tolist()\n",
    "numerical_features"
   ]
  },
  {
   "cell_type": "code",
   "execution_count": 21,
   "metadata": {},
   "outputs": [],
   "source": [
    "numerical_features_totransform = [    \n",
    "    'tenure',    \n",
    "    'sms_spend',\n",
    "    'data_spend',\n",
    "    'data_consume',\n",
    "    'calls',\n",
    "    'onnet_spend',\n",
    "    'offnet_spend'\n",
    "]\n",
    "\n",
    "numerical_features_todrop = [\n",
    "    \"network_age\",\n",
    "    \"spend_mo12\"\n",
    "]\n",
    "\n",
    "numerical_features_topass = [\"complaint_calls\"]"
   ]
  },
  {
   "cell_type": "code",
   "execution_count": 30,
   "metadata": {},
   "outputs": [
    {
     "data": {
      "text/plain": [
       "['tenure',\n",
       " 'sms_spend',\n",
       " 'data_spend',\n",
       " 'data_consume',\n",
       " 'calls',\n",
       " 'onnet_spend',\n",
       " 'offnet_spend']"
      ]
     },
     "execution_count": 30,
     "metadata": {},
     "output_type": "execute_result"
    }
   ],
   "source": [
    "excluded = list(set(numerical_features_todrop).union(numerical_features_topass))\n",
    "\n",
    "num_totransform = [f for f in numerical_features if f not in excluded]\n",
    "num_totransform"
   ]
  },
  {
   "cell_type": "code",
   "execution_count": 22,
   "metadata": {},
   "outputs": [
    {
     "data": {
      "text/plain": [
       "['Customer ID',\n",
       " 'net_type_mo1',\n",
       " 'net_type_mo2',\n",
       " 'competitor_mo1',\n",
       " 'competitor_mo2']"
      ]
     },
     "execution_count": 22,
     "metadata": {},
     "output_type": "execute_result"
    }
   ],
   "source": [
    "cat_features = X.select_dtypes(\"object\").columns.tolist()\n",
    "cat_features"
   ]
  },
  {
   "cell_type": "code",
   "execution_count": 26,
   "metadata": {},
   "outputs": [
    {
     "data": {
      "text/plain": [
       "array([[-1.53442273, -1.55768456, -0.88312607, ..., -0.1491    ,\n",
       "         0.19640358,  2.        ],\n",
       "       [ 0.17555233, -0.57087198, -0.88312607, ...,  0.2109361 ,\n",
       "        -0.00319422,  1.        ],\n",
       "       [ 0.83218859, -0.65298317, -0.88312607, ...,  0.98568573,\n",
       "         0.91526878,  1.        ],\n",
       "       ...,\n",
       "       [ 1.10365892, -0.10431728, -0.61422276, ...,  1.64801755,\n",
       "         1.10396019,  3.        ],\n",
       "       [-0.54419724,  1.24674288, -0.02222374, ...,  1.34201693,\n",
       "         0.30968162,  1.        ],\n",
       "       [ 0.25275273,  0.44531476,  0.20503602, ...,  0.9644096 ,\n",
       "         0.00524632,  1.        ]])"
      ]
     },
     "execution_count": 26,
     "metadata": {},
     "output_type": "execute_result"
    }
   ],
   "source": [
    "ct = ColumnTransformer(\n",
    "    [\n",
    "        (\"id_drop\", \"drop\", cat_features[0]),\n",
    "        (\"num_drop\", \"drop\", numerical_features_todrop),\n",
    "        (\"num_transform\", PowerTransformer(), numerical_features_totransform),\n",
    "        (\"num_pass\", \"passthrough\", numerical_features_topass),\n",
    "        (\"cat_drop\", \"drop\", cat_features[1:])\n",
    "    ]\n",
    ")\n",
    "\n",
    "ct.fit_transform(X)\n"
   ]
  },
  {
   "cell_type": "code",
   "execution_count": 24,
   "metadata": {},
   "outputs": [
    {
     "data": {
      "text/html": [
       "<div>\n",
       "<style scoped>\n",
       "    .dataframe tbody tr th:only-of-type {\n",
       "        vertical-align: middle;\n",
       "    }\n",
       "\n",
       "    .dataframe tbody tr th {\n",
       "        vertical-align: top;\n",
       "    }\n",
       "\n",
       "    .dataframe thead th {\n",
       "        text-align: right;\n",
       "    }\n",
       "</style>\n",
       "<table border=\"1\" class=\"dataframe\">\n",
       "  <thead>\n",
       "    <tr style=\"text-align: right;\">\n",
       "      <th></th>\n",
       "      <th>Customer ID</th>\n",
       "      <th>network_age</th>\n",
       "      <th>tenure</th>\n",
       "      <th>spend_mo12</th>\n",
       "      <th>sms_spend</th>\n",
       "      <th>data_spend</th>\n",
       "      <th>data_consume</th>\n",
       "      <th>calls</th>\n",
       "      <th>onnet_spend</th>\n",
       "      <th>offnet_spend</th>\n",
       "      <th>complaint_calls</th>\n",
       "      <th>net_type_mo1</th>\n",
       "      <th>net_type_mo2</th>\n",
       "      <th>competitor_mo1</th>\n",
       "      <th>competitor_mo2</th>\n",
       "    </tr>\n",
       "  </thead>\n",
       "  <tbody>\n",
       "    <tr>\n",
       "      <th>0</th>\n",
       "      <td>ADF0039</td>\n",
       "      <td>123</td>\n",
       "      <td>4.10</td>\n",
       "      <td>76.7140</td>\n",
       "      <td>0.00</td>\n",
       "      <td>1.25</td>\n",
       "      <td>1.4951</td>\n",
       "      <td>14</td>\n",
       "      <td>564</td>\n",
       "      <td>6408</td>\n",
       "      <td>2</td>\n",
       "      <td>2G</td>\n",
       "      <td>2G</td>\n",
       "      <td>Uxaa</td>\n",
       "      <td>Mango</td>\n",
       "    </tr>\n",
       "    <tr>\n",
       "      <th>1</th>\n",
       "      <td>ADF0041</td>\n",
       "      <td>1316</td>\n",
       "      <td>43.87</td>\n",
       "      <td>98.8904</td>\n",
       "      <td>4.14</td>\n",
       "      <td>1.25</td>\n",
       "      <td>1.0244</td>\n",
       "      <td>27</td>\n",
       "      <td>1626</td>\n",
       "      <td>4373</td>\n",
       "      <td>1</td>\n",
       "      <td>2G</td>\n",
       "      <td>2G</td>\n",
       "      <td>Uxaa</td>\n",
       "      <td>Mango</td>\n",
       "    </tr>\n",
       "    <tr>\n",
       "      <th>2</th>\n",
       "      <td>ADF0051</td>\n",
       "      <td>2385</td>\n",
       "      <td>79.50</td>\n",
       "      <td>372.6300</td>\n",
       "      <td>3.51</td>\n",
       "      <td>1.25</td>\n",
       "      <td>6.0898</td>\n",
       "      <td>119</td>\n",
       "      <td>10411</td>\n",
       "      <td>22039</td>\n",
       "      <td>1</td>\n",
       "      <td>2G</td>\n",
       "      <td>2G</td>\n",
       "      <td>Weematel</td>\n",
       "      <td>Mango</td>\n",
       "    </tr>\n",
       "    <tr>\n",
       "      <th>3</th>\n",
       "      <td>ADF0060</td>\n",
       "      <td>2175</td>\n",
       "      <td>72.50</td>\n",
       "      <td>554.1300</td>\n",
       "      <td>6.99</td>\n",
       "      <td>153.75</td>\n",
       "      <td>673204.0342</td>\n",
       "      <td>33</td>\n",
       "      <td>3387</td>\n",
       "      <td>7241</td>\n",
       "      <td>1</td>\n",
       "      <td>2G</td>\n",
       "      <td>3G</td>\n",
       "      <td>Weematel</td>\n",
       "      <td>Mango</td>\n",
       "    </tr>\n",
       "    <tr>\n",
       "      <th>4</th>\n",
       "      <td>ADF0066</td>\n",
       "      <td>158</td>\n",
       "      <td>5.27</td>\n",
       "      <td>792.1144</td>\n",
       "      <td>28.63</td>\n",
       "      <td>108.75</td>\n",
       "      <td>107713.5820</td>\n",
       "      <td>101</td>\n",
       "      <td>7296</td>\n",
       "      <td>16636</td>\n",
       "      <td>1</td>\n",
       "      <td>2G</td>\n",
       "      <td>2G</td>\n",
       "      <td>Uxaa</td>\n",
       "      <td>Mango</td>\n",
       "    </tr>\n",
       "    <tr>\n",
       "      <th>...</th>\n",
       "      <td>...</td>\n",
       "      <td>...</td>\n",
       "      <td>...</td>\n",
       "      <td>...</td>\n",
       "      <td>...</td>\n",
       "      <td>...</td>\n",
       "      <td>...</td>\n",
       "      <td>...</td>\n",
       "      <td>...</td>\n",
       "      <td>...</td>\n",
       "      <td>...</td>\n",
       "      <td>...</td>\n",
       "      <td>...</td>\n",
       "      <td>...</td>\n",
       "      <td>...</td>\n",
       "    </tr>\n",
       "    <tr>\n",
       "      <th>1051</th>\n",
       "      <td>ADF1290</td>\n",
       "      <td>3994</td>\n",
       "      <td>133.13</td>\n",
       "      <td>804.0848</td>\n",
       "      <td>7.00</td>\n",
       "      <td>0.00</td>\n",
       "      <td>2364.6768</td>\n",
       "      <td>127</td>\n",
       "      <td>30071</td>\n",
       "      <td>8091</td>\n",
       "      <td>2</td>\n",
       "      <td>Other</td>\n",
       "      <td>Other</td>\n",
       "      <td>PQza</td>\n",
       "      <td>Uxaa</td>\n",
       "    </tr>\n",
       "    <tr>\n",
       "      <th>1052</th>\n",
       "      <td>ADF1302</td>\n",
       "      <td>731</td>\n",
       "      <td>24.37</td>\n",
       "      <td>828.7404</td>\n",
       "      <td>3.52</td>\n",
       "      <td>2.50</td>\n",
       "      <td>35674.9864</td>\n",
       "      <td>660</td>\n",
       "      <td>10912</td>\n",
       "      <td>20756</td>\n",
       "      <td>7</td>\n",
       "      <td>Other</td>\n",
       "      <td>Other</td>\n",
       "      <td>PQza</td>\n",
       "      <td>Uxaa</td>\n",
       "    </tr>\n",
       "    <tr>\n",
       "      <th>1053</th>\n",
       "      <td>ADF1304</td>\n",
       "      <td>2971</td>\n",
       "      <td>99.03</td>\n",
       "      <td>832.7248</td>\n",
       "      <td>9.62</td>\n",
       "      <td>2.50</td>\n",
       "      <td>103008.5605</td>\n",
       "      <td>224</td>\n",
       "      <td>37401</td>\n",
       "      <td>29553</td>\n",
       "      <td>3</td>\n",
       "      <td>Other</td>\n",
       "      <td>Other</td>\n",
       "      <td>ToCall</td>\n",
       "      <td>Uxaa</td>\n",
       "    </tr>\n",
       "    <tr>\n",
       "      <th>1054</th>\n",
       "      <td>ADF1308</td>\n",
       "      <td>595</td>\n",
       "      <td>19.83</td>\n",
       "      <td>839.5724</td>\n",
       "      <td>73.80</td>\n",
       "      <td>8.75</td>\n",
       "      <td>229.4463</td>\n",
       "      <td>102</td>\n",
       "      <td>21304</td>\n",
       "      <td>7894</td>\n",
       "      <td>1</td>\n",
       "      <td>Other</td>\n",
       "      <td>Other</td>\n",
       "      <td>Uxaa</td>\n",
       "      <td>Uxaa</td>\n",
       "    </tr>\n",
       "    <tr>\n",
       "      <th>1055</th>\n",
       "      <td>ADF1313</td>\n",
       "      <td>1419</td>\n",
       "      <td>47.30</td>\n",
       "      <td>843.0604</td>\n",
       "      <td>23.10</td>\n",
       "      <td>13.75</td>\n",
       "      <td>510439.3584</td>\n",
       "      <td>210</td>\n",
       "      <td>9952</td>\n",
       "      <td>4446</td>\n",
       "      <td>1</td>\n",
       "      <td>Other</td>\n",
       "      <td>Other</td>\n",
       "      <td>Uxaa</td>\n",
       "      <td>Uxaa</td>\n",
       "    </tr>\n",
       "  </tbody>\n",
       "</table>\n",
       "<p>1056 rows × 15 columns</p>\n",
       "</div>"
      ],
      "text/plain": [
       "     Customer ID  network_age  tenure  spend_mo12  sms_spend  data_spend  \\\n",
       "0        ADF0039          123    4.10     76.7140       0.00        1.25   \n",
       "1        ADF0041         1316   43.87     98.8904       4.14        1.25   \n",
       "2        ADF0051         2385   79.50    372.6300       3.51        1.25   \n",
       "3        ADF0060         2175   72.50    554.1300       6.99      153.75   \n",
       "4        ADF0066          158    5.27    792.1144      28.63      108.75   \n",
       "...          ...          ...     ...         ...        ...         ...   \n",
       "1051     ADF1290         3994  133.13    804.0848       7.00        0.00   \n",
       "1052     ADF1302          731   24.37    828.7404       3.52        2.50   \n",
       "1053     ADF1304         2971   99.03    832.7248       9.62        2.50   \n",
       "1054     ADF1308          595   19.83    839.5724      73.80        8.75   \n",
       "1055     ADF1313         1419   47.30    843.0604      23.10       13.75   \n",
       "\n",
       "      data_consume  calls  onnet_spend  offnet_spend  complaint_calls  \\\n",
       "0           1.4951     14          564          6408                2   \n",
       "1           1.0244     27         1626          4373                1   \n",
       "2           6.0898    119        10411         22039                1   \n",
       "3      673204.0342     33         3387          7241                1   \n",
       "4      107713.5820    101         7296         16636                1   \n",
       "...            ...    ...          ...           ...              ...   \n",
       "1051     2364.6768    127        30071          8091                2   \n",
       "1052    35674.9864    660        10912         20756                7   \n",
       "1053   103008.5605    224        37401         29553                3   \n",
       "1054      229.4463    102        21304          7894                1   \n",
       "1055   510439.3584    210         9952          4446                1   \n",
       "\n",
       "     net_type_mo1 net_type_mo2 competitor_mo1 competitor_mo2  \n",
       "0              2G           2G           Uxaa          Mango  \n",
       "1              2G           2G           Uxaa          Mango  \n",
       "2              2G           2G       Weematel          Mango  \n",
       "3              2G           3G       Weematel          Mango  \n",
       "4              2G           2G           Uxaa          Mango  \n",
       "...           ...          ...            ...            ...  \n",
       "1051        Other        Other           PQza           Uxaa  \n",
       "1052        Other        Other           PQza           Uxaa  \n",
       "1053        Other        Other         ToCall           Uxaa  \n",
       "1054        Other        Other           Uxaa           Uxaa  \n",
       "1055        Other        Other           Uxaa           Uxaa  \n",
       "\n",
       "[1056 rows x 15 columns]"
      ]
     },
     "execution_count": 24,
     "metadata": {},
     "output_type": "execute_result"
    }
   ],
   "source": [
    "X"
   ]
  },
  {
   "cell_type": "code",
   "execution_count": 31,
   "metadata": {},
   "outputs": [],
   "source": [
    "from optuned_lightgmb.lightgbm_telcom_churn import load_cleaned_telcom_churn, scaler"
   ]
  },
  {
   "cell_type": "code",
   "execution_count": 32,
   "metadata": {},
   "outputs": [
    {
     "name": "stdout",
     "output_type": "stream",
     "text": [
      "Variable   Type         Data/Info\n",
      "---------------------------------\n",
      "X          DataFrame         Customer ID  network<...>n[1056 rows x 15 columns]\n",
      "data_raw   DataFrame         Customer ID  network<...>n[1056 rows x 16 columns]\n",
      "y          DataFrame          Churn Status\\n0    <...>\\n[1056 rows x 1 columns]\n"
     ]
    }
   ],
   "source": [
    "%whos DataFrame"
   ]
  },
  {
   "cell_type": "code",
   "execution_count": 38,
   "metadata": {},
   "outputs": [
    {
     "data": {
      "text/html": [
       "<div>\n",
       "<style scoped>\n",
       "    .dataframe tbody tr th:only-of-type {\n",
       "        vertical-align: middle;\n",
       "    }\n",
       "\n",
       "    .dataframe tbody tr th {\n",
       "        vertical-align: top;\n",
       "    }\n",
       "\n",
       "    .dataframe thead th {\n",
       "        text-align: right;\n",
       "    }\n",
       "</style>\n",
       "<table border=\"1\" class=\"dataframe\">\n",
       "  <thead>\n",
       "    <tr style=\"text-align: right;\">\n",
       "      <th></th>\n",
       "      <th>Customer ID</th>\n",
       "      <th>network_age</th>\n",
       "      <th>tenure</th>\n",
       "      <th>spend_mo12</th>\n",
       "      <th>sms_spend</th>\n",
       "      <th>data_spend</th>\n",
       "      <th>data_consume</th>\n",
       "      <th>calls</th>\n",
       "      <th>onnet_spend</th>\n",
       "      <th>offnet_spend</th>\n",
       "      <th>complaint_calls</th>\n",
       "      <th>net_type_mo1</th>\n",
       "      <th>net_type_mo2</th>\n",
       "      <th>competitor_mo1</th>\n",
       "      <th>competitor_mo2</th>\n",
       "    </tr>\n",
       "  </thead>\n",
       "  <tbody>\n",
       "    <tr>\n",
       "      <th>0</th>\n",
       "      <td>ADF0039</td>\n",
       "      <td>123</td>\n",
       "      <td>4.10</td>\n",
       "      <td>76.7140</td>\n",
       "      <td>0.00</td>\n",
       "      <td>1.25</td>\n",
       "      <td>1.4951</td>\n",
       "      <td>14</td>\n",
       "      <td>564</td>\n",
       "      <td>6408</td>\n",
       "      <td>2</td>\n",
       "      <td>2G</td>\n",
       "      <td>2G</td>\n",
       "      <td>Uxaa</td>\n",
       "      <td>Mango</td>\n",
       "    </tr>\n",
       "    <tr>\n",
       "      <th>1</th>\n",
       "      <td>ADF0041</td>\n",
       "      <td>1316</td>\n",
       "      <td>43.87</td>\n",
       "      <td>98.8904</td>\n",
       "      <td>4.14</td>\n",
       "      <td>1.25</td>\n",
       "      <td>1.0244</td>\n",
       "      <td>27</td>\n",
       "      <td>1626</td>\n",
       "      <td>4373</td>\n",
       "      <td>1</td>\n",
       "      <td>2G</td>\n",
       "      <td>2G</td>\n",
       "      <td>Uxaa</td>\n",
       "      <td>Mango</td>\n",
       "    </tr>\n",
       "    <tr>\n",
       "      <th>2</th>\n",
       "      <td>ADF0051</td>\n",
       "      <td>2385</td>\n",
       "      <td>79.50</td>\n",
       "      <td>372.6300</td>\n",
       "      <td>3.51</td>\n",
       "      <td>1.25</td>\n",
       "      <td>6.0898</td>\n",
       "      <td>119</td>\n",
       "      <td>10411</td>\n",
       "      <td>22039</td>\n",
       "      <td>1</td>\n",
       "      <td>2G</td>\n",
       "      <td>2G</td>\n",
       "      <td>Weematel</td>\n",
       "      <td>Mango</td>\n",
       "    </tr>\n",
       "    <tr>\n",
       "      <th>3</th>\n",
       "      <td>ADF0060</td>\n",
       "      <td>2175</td>\n",
       "      <td>72.50</td>\n",
       "      <td>554.1300</td>\n",
       "      <td>6.99</td>\n",
       "      <td>153.75</td>\n",
       "      <td>673204.0342</td>\n",
       "      <td>33</td>\n",
       "      <td>3387</td>\n",
       "      <td>7241</td>\n",
       "      <td>1</td>\n",
       "      <td>2G</td>\n",
       "      <td>3G</td>\n",
       "      <td>Weematel</td>\n",
       "      <td>Mango</td>\n",
       "    </tr>\n",
       "    <tr>\n",
       "      <th>4</th>\n",
       "      <td>ADF0066</td>\n",
       "      <td>158</td>\n",
       "      <td>5.27</td>\n",
       "      <td>792.1144</td>\n",
       "      <td>28.63</td>\n",
       "      <td>108.75</td>\n",
       "      <td>107713.5820</td>\n",
       "      <td>101</td>\n",
       "      <td>7296</td>\n",
       "      <td>16636</td>\n",
       "      <td>1</td>\n",
       "      <td>2G</td>\n",
       "      <td>2G</td>\n",
       "      <td>Uxaa</td>\n",
       "      <td>Mango</td>\n",
       "    </tr>\n",
       "  </tbody>\n",
       "</table>\n",
       "</div>"
      ],
      "text/plain": [
       "  Customer ID  network_age  tenure  spend_mo12  sms_spend  data_spend  \\\n",
       "0     ADF0039          123    4.10     76.7140       0.00        1.25   \n",
       "1     ADF0041         1316   43.87     98.8904       4.14        1.25   \n",
       "2     ADF0051         2385   79.50    372.6300       3.51        1.25   \n",
       "3     ADF0060         2175   72.50    554.1300       6.99      153.75   \n",
       "4     ADF0066          158    5.27    792.1144      28.63      108.75   \n",
       "\n",
       "   data_consume  calls  onnet_spend  offnet_spend  complaint_calls  \\\n",
       "0        1.4951     14          564          6408                2   \n",
       "1        1.0244     27         1626          4373                1   \n",
       "2        6.0898    119        10411         22039                1   \n",
       "3   673204.0342     33         3387          7241                1   \n",
       "4   107713.5820    101         7296         16636                1   \n",
       "\n",
       "  net_type_mo1 net_type_mo2 competitor_mo1 competitor_mo2  \n",
       "0           2G           2G           Uxaa          Mango  \n",
       "1           2G           2G           Uxaa          Mango  \n",
       "2           2G           2G       Weematel          Mango  \n",
       "3           2G           3G       Weematel          Mango  \n",
       "4           2G           2G           Uxaa          Mango  "
      ]
     },
     "execution_count": 38,
     "metadata": {},
     "output_type": "execute_result"
    }
   ],
   "source": [
    "X,y = load_cleaned_telcom_churn()\n",
    "X.head()"
   ]
  },
  {
   "cell_type": "code",
   "execution_count": 39,
   "metadata": {},
   "outputs": [
    {
     "data": {
      "text/plain": [
       "0    0\n",
       "1    0\n",
       "2    0\n",
       "3    0\n",
       "4    0\n",
       "Name: Churn Status, dtype: int64"
      ]
     },
     "execution_count": 39,
     "metadata": {},
     "output_type": "execute_result"
    }
   ],
   "source": [
    "y.head()"
   ]
  },
  {
   "cell_type": "code",
   "execution_count": 40,
   "metadata": {},
   "outputs": [],
   "source": [
    "from sklearn.model_selection import train_test_split\n",
    "\n",
    "X_train, X_test, y_train, y_test = train_test_split(\n",
    "    X,y,\n",
    "    test_size=.25,\n",
    "    random_state=42\n",
    ")\n",
    "\n",
    "ct = scaler(X_train)\n",
    "X_train = ct.fit_transform(X_train)\n",
    "X_test = ct.transform(X_test)"
   ]
  },
  {
   "cell_type": "code",
   "execution_count": 41,
   "metadata": {},
   "outputs": [],
   "source": [
    "best_params = {\n",
    "    \"objective\": \"binary\",\n",
    "    \"metric\": \"binary_logloss\",\n",
    "    \"verbosity\": -1,\n",
    "    \"boosting_type\": \"gbdt\",\n",
    "    \"lambda_l1\": 6.87009123162533e-07,\n",
    "    \"lambda_l2\": 1.0728987685523281e-05,\n",
    "    \"num_leaves\": 13,\n",
    "    \"feature_fraction\": 0.45521319964959506,\n",
    "    \"bagging_fraction\": 0.9180039750586256,\n",
    "    \"bagging_freq\": 1,\n",
    "    \"min_child_samples\": 9\n",
    "}"
   ]
  },
  {
   "cell_type": "code",
   "execution_count": 44,
   "metadata": {},
   "outputs": [],
   "source": [
    "import lightgbm as lgb\n",
    "\n",
    "dtrain = lgb.Dataset(X_train, label=y_train)\n",
    "dtest = lgb.Dataset(X_test, label=y_test)"
   ]
  },
  {
   "cell_type": "code",
   "execution_count": 99,
   "metadata": {},
   "outputs": [
    {
     "name": "stderr",
     "output_type": "stream",
     "text": [
      "/home/hcf/anaconda3/envs/ml-nongpu/lib/python3.9/site-packages/lightgbm/engine.py:181: UserWarning: 'early_stopping_rounds' argument is deprecated and will be removed in a future release of LightGBM. Pass 'early_stopping()' callback via 'callbacks' argument instead.\n",
      "  _log_warning(\"'early_stopping_rounds' argument is deprecated and will be removed in a future release of LightGBM. \"\n"
     ]
    },
    {
     "name": "stdout",
     "output_type": "stream",
     "text": [
      "[1]\tvalid_0's binary_logloss: 0.680825\n",
      "Training until validation scores don't improve for 10 rounds\n",
      "[2]\tvalid_0's binary_logloss: 0.665933\n",
      "[3]\tvalid_0's binary_logloss: 0.650819\n",
      "[4]\tvalid_0's binary_logloss: 0.63615\n",
      "[5]\tvalid_0's binary_logloss: 0.627477\n",
      "[6]\tvalid_0's binary_logloss: 0.620461\n",
      "[7]\tvalid_0's binary_logloss: 0.613577\n",
      "[8]\tvalid_0's binary_logloss: 0.609303\n",
      "[9]\tvalid_0's binary_logloss: 0.600428\n",
      "[10]\tvalid_0's binary_logloss: 0.596061\n",
      "[11]\tvalid_0's binary_logloss: 0.591598\n",
      "[12]\tvalid_0's binary_logloss: 0.590794\n",
      "[13]\tvalid_0's binary_logloss: 0.586895\n",
      "[14]\tvalid_0's binary_logloss: 0.584287\n",
      "[15]\tvalid_0's binary_logloss: 0.577712\n",
      "[16]\tvalid_0's binary_logloss: 0.575709\n",
      "[17]\tvalid_0's binary_logloss: 0.577991\n",
      "[18]\tvalid_0's binary_logloss: 0.57523\n",
      "[19]\tvalid_0's binary_logloss: 0.57433\n",
      "[20]\tvalid_0's binary_logloss: 0.572184\n",
      "[21]\tvalid_0's binary_logloss: 0.570758\n",
      "[22]\tvalid_0's binary_logloss: 0.56794\n",
      "[23]\tvalid_0's binary_logloss: 0.569272\n",
      "[24]\tvalid_0's binary_logloss: 0.569227\n",
      "[25]\tvalid_0's binary_logloss: 0.570207\n",
      "[26]\tvalid_0's binary_logloss: 0.571767\n",
      "[27]\tvalid_0's binary_logloss: 0.575078\n",
      "[28]\tvalid_0's binary_logloss: 0.575616\n",
      "[29]\tvalid_0's binary_logloss: 0.575914\n",
      "[30]\tvalid_0's binary_logloss: 0.576677\n",
      "[31]\tvalid_0's binary_logloss: 0.578669\n",
      "[32]\tvalid_0's binary_logloss: 0.578951\n",
      "Early stopping, best iteration is:\n",
      "[22]\tvalid_0's binary_logloss: 0.56794\n"
     ]
    }
   ],
   "source": [
    "max_rounds = 1000\n",
    "early_stopping = 10\n",
    "\n",
    "lgbfit = lgb.train(\n",
    "    params=best_params,\n",
    "    train_set=dtrain,\n",
    "    num_boost_round=1000,\n",
    "    valid_sets=dtest,\n",
    "    early_stopping_rounds=early_stopping\n",
    ")"
   ]
  },
  {
   "cell_type": "code",
   "execution_count": 100,
   "metadata": {},
   "outputs": [
    {
     "data": {
      "text/plain": [
       "defaultdict(collections.OrderedDict,\n",
       "            {'valid_0': OrderedDict([('binary_logloss', 0.5679400889917702)])})"
      ]
     },
     "execution_count": 100,
     "metadata": {},
     "output_type": "execute_result"
    }
   ],
   "source": [
    "lgbfit.best_score"
   ]
  },
  {
   "cell_type": "code",
   "execution_count": 101,
   "metadata": {},
   "outputs": [],
   "source": [
    "# From predict_proba to class\n",
    "y_pred = np.round(lgbfit.predict(X_test)).astype(np.int8)"
   ]
  },
  {
   "cell_type": "code",
   "execution_count": 102,
   "metadata": {},
   "outputs": [],
   "source": [
    "churn_test[\"predicted\"] = y_pred"
   ]
  },
  {
   "cell_type": "code",
   "execution_count": 103,
   "metadata": {},
   "outputs": [],
   "source": [
    "churn_test.rename(\n",
    "    columns={\n",
    "        \"Churn Status\": \"observed\"\n",
    "    }, inplace=True\n",
    ")"
   ]
  },
  {
   "cell_type": "code",
   "execution_count": 104,
   "metadata": {},
   "outputs": [
    {
     "data": {
      "text/plain": [
       "1    78\n",
       "0    54\n",
       "Name: predicted, dtype: int64"
      ]
     },
     "execution_count": 104,
     "metadata": {},
     "output_type": "execute_result"
    }
   ],
   "source": [
    "subset_pos = churn_test[\"observed\"]==1\n",
    "churn_test[subset_pos][\"predicted\"].value_counts()"
   ]
  },
  {
   "cell_type": "code",
   "execution_count": 105,
   "metadata": {},
   "outputs": [
    {
     "data": {
      "text/plain": [
       "132"
      ]
     },
     "execution_count": 105,
     "metadata": {},
     "output_type": "execute_result"
    }
   ],
   "source": [
    "subset_pos.sum()"
   ]
  },
  {
   "cell_type": "code",
   "execution_count": 106,
   "metadata": {},
   "outputs": [
    {
     "data": {
      "text/plain": [
       "0    100\n",
       "1     32\n",
       "Name: predicted, dtype: int64"
      ]
     },
     "execution_count": 106,
     "metadata": {},
     "output_type": "execute_result"
    }
   ],
   "source": [
    "subset_neg = churn_test[\"observed\"]==0\n",
    "churn_test[subset_neg][\"predicted\"].value_counts()"
   ]
  },
  {
   "cell_type": "code",
   "execution_count": 122,
   "metadata": {},
   "outputs": [],
   "source": [
    "TP = churn_test[subset_pos][\"predicted\"].value_counts().iloc[0] # True Positive (Churn)\n",
    "FN = churn_test[subset_pos][\"predicted\"].value_counts().iloc[1] # False Positive \n",
    "\n",
    "TN = churn_test[subset_neg][\"predicted\"].value_counts().iloc[0] # True Negatives\n",
    "FP = churn_test[subset_neg][\"predicted\"].value_counts().iloc[1] # False Negatives"
   ]
  },
  {
   "cell_type": "code",
   "execution_count": 123,
   "metadata": {},
   "outputs": [
    {
     "data": {
      "text/plain": [
       "0.6742424242424242"
      ]
     },
     "execution_count": 123,
     "metadata": {},
     "output_type": "execute_result"
    }
   ],
   "source": [
    "from sklearn.metrics import accuracy_score\n",
    "\n",
    "accuracy_score(churn_test[\"observed\"].values, y_pred)"
   ]
  },
  {
   "cell_type": "code",
   "execution_count": 124,
   "metadata": {},
   "outputs": [
    {
     "data": {
      "text/plain": [
       "0.6742424242424242"
      ]
     },
     "execution_count": 124,
     "metadata": {},
     "output_type": "execute_result"
    }
   ],
   "source": [
    "ACC = (TP+TN)/(TP+FP+TN+FN)\n",
    "ACC"
   ]
  },
  {
   "cell_type": "code",
   "execution_count": 112,
   "metadata": {},
   "outputs": [
    {
     "data": {
      "text/plain": [
       "0.37209302325581395"
      ]
     },
     "execution_count": 112,
     "metadata": {},
     "output_type": "execute_result"
    }
   ],
   "source": [
    "# La Tasa de Fugados mal Clasificados es excesivamente alta en conjunto de test\n",
    "FNR = FN/(FP+FN) \n",
    "FNR"
   ]
  },
  {
   "cell_type": "markdown",
   "metadata": {},
   "source": [
    "* <u>**Train**</u>"
   ]
  },
  {
   "cell_type": "code",
   "execution_count": 110,
   "metadata": {},
   "outputs": [
    {
     "data": {
      "text/plain": [
       "0.8712121212121212"
      ]
     },
     "execution_count": 110,
     "metadata": {},
     "output_type": "execute_result"
    }
   ],
   "source": [
    "train_pred = np.round(lgbfit.predict(X_train)).astype(np.int8)\n",
    "accuracy_score(y_train, train_pred)"
   ]
  },
  {
   "cell_type": "code",
   "execution_count": 116,
   "metadata": {},
   "outputs": [],
   "source": [
    "from sklearn.metrics import confusion_matrix\n",
    "\n",
    "tn, fp, fn, tp = confusion_matrix(y_test, y_pred).ravel()"
   ]
  },
  {
   "cell_type": "code",
   "execution_count": 125,
   "metadata": {},
   "outputs": [
    {
     "data": {
      "text/plain": [
       "(True, True, True, True)"
      ]
     },
     "execution_count": 125,
     "metadata": {},
     "output_type": "execute_result"
    }
   ],
   "source": [
    "tp == TP, tn == TN, fp==FP, fn==FN"
   ]
  },
  {
   "cell_type": "code",
   "execution_count": 126,
   "metadata": {},
   "outputs": [
    {
     "name": "stdout",
     "output_type": "stream",
     "text": [
      "Variable     Type         Data/Info\n",
      "-----------------------------------\n",
      "X            DataFrame         Customer ID  network<...>n[1056 rows x 15 columns]\n",
      "churn_test   DataFrame          observed  predictio<...>n\\n[264 rows x 3 columns]\n",
      "data_raw     DataFrame         Customer ID  network<...>n[1056 rows x 16 columns]\n"
     ]
    }
   ],
   "source": [
    "%whos DataFrame"
   ]
  },
  {
   "attachments": {},
   "cell_type": "markdown",
   "metadata": {},
   "source": [
    "### 2 Carga de Datos as is (`Kaggle Competition`)\n",
    "\n",
    "Carga de datos de los disponibles de una `Kaggle Competition`. Los datos ya tienen el split en construcción (`train.csv`) y explotación (`test.csv`), por lo que el objetivo es rellenar `test.csv` con las predicciones que aporte el trabajo sobre `train.csv`"
   ]
  },
  {
   "cell_type": "code",
   "execution_count": 127,
   "metadata": {},
   "outputs": [
    {
     "data": {
      "text/html": [
       "<div>\n",
       "<style scoped>\n",
       "    .dataframe tbody tr th:only-of-type {\n",
       "        vertical-align: middle;\n",
       "    }\n",
       "\n",
       "    .dataframe tbody tr th {\n",
       "        vertical-align: top;\n",
       "    }\n",
       "\n",
       "    .dataframe thead th {\n",
       "        text-align: right;\n",
       "    }\n",
       "</style>\n",
       "<table border=\"1\" class=\"dataframe\">\n",
       "  <thead>\n",
       "    <tr style=\"text-align: right;\">\n",
       "      <th></th>\n",
       "      <th>Customer ID</th>\n",
       "      <th>network_age</th>\n",
       "      <th>Customer tenure in month</th>\n",
       "      <th>Total Spend in Months 1 and 2 of 2017</th>\n",
       "      <th>Total SMS Spend</th>\n",
       "      <th>Total Data Spend</th>\n",
       "      <th>Total Data Consumption</th>\n",
       "      <th>Total Unique Calls</th>\n",
       "      <th>Total Onnet spend</th>\n",
       "      <th>Total Offnet spend</th>\n",
       "      <th>Total Call centre complaint calls</th>\n",
       "      <th>Network type subscription in Month 1</th>\n",
       "      <th>Network type subscription in Month 2</th>\n",
       "      <th>Most Loved Competitor network in in Month 1</th>\n",
       "      <th>Most Loved Competitor network in in Month 2</th>\n",
       "      <th>Churn Status</th>\n",
       "    </tr>\n",
       "  </thead>\n",
       "  <tbody>\n",
       "    <tr>\n",
       "      <th>0</th>\n",
       "      <td>ADF0039</td>\n",
       "      <td>123.0</td>\n",
       "      <td>4.10</td>\n",
       "      <td>76.7140</td>\n",
       "      <td>0.00</td>\n",
       "      <td>1.25</td>\n",
       "      <td>1.4951</td>\n",
       "      <td>14.0</td>\n",
       "      <td>564.0</td>\n",
       "      <td>6408.0</td>\n",
       "      <td>2.0</td>\n",
       "      <td>2G</td>\n",
       "      <td>2G</td>\n",
       "      <td>Uxaa</td>\n",
       "      <td>Mango</td>\n",
       "      <td>0.0</td>\n",
       "    </tr>\n",
       "    <tr>\n",
       "      <th>1</th>\n",
       "      <td>ADF0041</td>\n",
       "      <td>1316.0</td>\n",
       "      <td>43.87</td>\n",
       "      <td>98.8904</td>\n",
       "      <td>4.14</td>\n",
       "      <td>1.25</td>\n",
       "      <td>1.0244</td>\n",
       "      <td>27.0</td>\n",
       "      <td>1626.0</td>\n",
       "      <td>4373.0</td>\n",
       "      <td>1.0</td>\n",
       "      <td>2G</td>\n",
       "      <td>2G</td>\n",
       "      <td>Uxaa</td>\n",
       "      <td>Mango</td>\n",
       "      <td>0.0</td>\n",
       "    </tr>\n",
       "    <tr>\n",
       "      <th>2</th>\n",
       "      <td>ADF0051</td>\n",
       "      <td>2385.0</td>\n",
       "      <td>79.50</td>\n",
       "      <td>372.6300</td>\n",
       "      <td>3.51</td>\n",
       "      <td>1.25</td>\n",
       "      <td>6.0898</td>\n",
       "      <td>119.0</td>\n",
       "      <td>10411.0</td>\n",
       "      <td>22039.0</td>\n",
       "      <td>1.0</td>\n",
       "      <td>2G</td>\n",
       "      <td>2G</td>\n",
       "      <td>Weematel</td>\n",
       "      <td>Mango</td>\n",
       "      <td>0.0</td>\n",
       "    </tr>\n",
       "    <tr>\n",
       "      <th>3</th>\n",
       "      <td>ADF0059</td>\n",
       "      <td>1614.0</td>\n",
       "      <td>53.80</td>\n",
       "      <td>530.2000</td>\n",
       "      <td>6.85</td>\n",
       "      <td>1.25</td>\n",
       "      <td>3.3447</td>\n",
       "      <td>69.0</td>\n",
       "      <td>6822.0</td>\n",
       "      <td>6274.0</td>\n",
       "      <td>1.0</td>\n",
       "      <td>2G</td>\n",
       "      <td>2G</td>\n",
       "      <td>0</td>\n",
       "      <td>Mango</td>\n",
       "      <td>0.0</td>\n",
       "    </tr>\n",
       "    <tr>\n",
       "      <th>4</th>\n",
       "      <td>ADF0060</td>\n",
       "      <td>2175.0</td>\n",
       "      <td>72.50</td>\n",
       "      <td>554.1300</td>\n",
       "      <td>6.99</td>\n",
       "      <td>153.75</td>\n",
       "      <td>673204.0342</td>\n",
       "      <td>33.0</td>\n",
       "      <td>3387.0</td>\n",
       "      <td>7241.0</td>\n",
       "      <td>1.0</td>\n",
       "      <td>2G</td>\n",
       "      <td>3G</td>\n",
       "      <td>Weematel</td>\n",
       "      <td>Mango</td>\n",
       "      <td>0.0</td>\n",
       "    </tr>\n",
       "  </tbody>\n",
       "</table>\n",
       "</div>"
      ],
      "text/plain": [
       "  Customer ID  network_age  Customer tenure in month  \\\n",
       "0     ADF0039        123.0                      4.10   \n",
       "1     ADF0041       1316.0                     43.87   \n",
       "2     ADF0051       2385.0                     79.50   \n",
       "3     ADF0059       1614.0                     53.80   \n",
       "4     ADF0060       2175.0                     72.50   \n",
       "\n",
       "   Total Spend in Months 1 and 2 of 2017  Total SMS Spend  Total Data Spend  \\\n",
       "0                                76.7140             0.00              1.25   \n",
       "1                                98.8904             4.14              1.25   \n",
       "2                               372.6300             3.51              1.25   \n",
       "3                               530.2000             6.85              1.25   \n",
       "4                               554.1300             6.99            153.75   \n",
       "\n",
       "   Total Data Consumption  Total Unique Calls  Total Onnet spend   \\\n",
       "0                  1.4951                14.0               564.0   \n",
       "1                  1.0244                27.0              1626.0   \n",
       "2                  6.0898               119.0             10411.0   \n",
       "3                  3.3447                69.0              6822.0   \n",
       "4             673204.0342                33.0              3387.0   \n",
       "\n",
       "   Total Offnet spend  Total Call centre complaint calls  \\\n",
       "0              6408.0                                2.0   \n",
       "1              4373.0                                1.0   \n",
       "2             22039.0                                1.0   \n",
       "3              6274.0                                1.0   \n",
       "4              7241.0                                1.0   \n",
       "\n",
       "  Network type subscription in Month 1 Network type subscription in Month 2  \\\n",
       "0                                   2G                                   2G   \n",
       "1                                   2G                                   2G   \n",
       "2                                   2G                                   2G   \n",
       "3                                   2G                                   2G   \n",
       "4                                   2G                                   3G   \n",
       "\n",
       "  Most Loved Competitor network in in Month 1  \\\n",
       "0                                        Uxaa   \n",
       "1                                        Uxaa   \n",
       "2                                    Weematel   \n",
       "3                                           0   \n",
       "4                                    Weematel   \n",
       "\n",
       "  Most Loved Competitor network in in Month 2  Churn Status  \n",
       "0                                       Mango           0.0  \n",
       "1                                       Mango           0.0  \n",
       "2                                       Mango           0.0  \n",
       "3                                       Mango           0.0  \n",
       "4                                       Mango           0.0  "
      ]
     },
     "execution_count": 127,
     "metadata": {},
     "output_type": "execute_result"
    }
   ],
   "source": [
    "data_kaggle = pd.read_csv(\n",
    "    \"./kaggle_data/train.csv\"\n",
    ")\n",
    "data_kaggle.head()"
   ]
  },
  {
   "cell_type": "code",
   "execution_count": 128,
   "metadata": {},
   "outputs": [
    {
     "data": {
      "text/plain": [
       "(1401, 16)"
      ]
     },
     "execution_count": 128,
     "metadata": {},
     "output_type": "execute_result"
    }
   ],
   "source": [
    "data_kaggle.shape"
   ]
  },
  {
   "cell_type": "code",
   "execution_count": 130,
   "metadata": {},
   "outputs": [
    {
     "data": {
      "text/plain": [
       "(1202, 16)"
      ]
     },
     "execution_count": 130,
     "metadata": {},
     "output_type": "execute_result"
    }
   ],
   "source": [
    "data_kaggle.dropna(how=\"any\").shape"
   ]
  },
  {
   "cell_type": "code",
   "execution_count": 133,
   "metadata": {},
   "outputs": [
    {
     "data": {
      "text/plain": [
       "<matplotlib.collections.PathCollection at 0x7f7dcad72e80>"
      ]
     },
     "execution_count": 133,
     "metadata": {},
     "output_type": "execute_result"
    },
    {
     "data": {
      "image/png": "[encoded data removed]",
      "text/plain": [
       "<Figure size 1600x900 with 1 Axes>"
      ]
     },
     "metadata": {},
     "output_type": "display_data"
    }
   ],
   "source": [
    "# Algunas comprobaciones graficas (correlacion perfecta network_age = customer_tenure)\n",
    "f,ax = plt.subplots(figsize=(16,9))\n",
    "\n",
    "ax.scatter(\n",
    "    x=data_kaggle[\"network_age\"],\n",
    "    y=data_kaggle[\"Customer tenure in month\"]\n",
    ")"
   ]
  },
  {
   "cell_type": "code",
   "execution_count": 136,
   "metadata": {},
   "outputs": [
    {
     "data": {
      "text/html": [
       "<div>\n",
       "<style scoped>\n",
       "    .dataframe tbody tr th:only-of-type {\n",
       "        vertical-align: middle;\n",
       "    }\n",
       "\n",
       "    .dataframe tbody tr th {\n",
       "        vertical-align: top;\n",
       "    }\n",
       "\n",
       "    .dataframe thead th {\n",
       "        text-align: right;\n",
       "    }\n",
       "</style>\n",
       "<table border=\"1\" class=\"dataframe\">\n",
       "  <thead>\n",
       "    <tr style=\"text-align: right;\">\n",
       "      <th></th>\n",
       "      <th>Customer ID</th>\n",
       "      <th>network_age</th>\n",
       "      <th>Customer tenure in month</th>\n",
       "      <th>Total Spend in Months 1 and 2 of 2017</th>\n",
       "      <th>Total SMS Spend</th>\n",
       "      <th>Total Data Spend</th>\n",
       "      <th>Total Data Consumption</th>\n",
       "      <th>Total Unique Calls</th>\n",
       "      <th>Total Onnet spend</th>\n",
       "      <th>Total Offnet spend</th>\n",
       "      <th>Total Call centre complaint calls</th>\n",
       "      <th>Network type subscription in Month 1</th>\n",
       "      <th>Network type subscription in Month 2</th>\n",
       "      <th>Most Loved Competitor network in in Month 1</th>\n",
       "      <th>Most Loved Competitor network in in Month 2</th>\n",
       "      <th>Churn Status</th>\n",
       "    </tr>\n",
       "  </thead>\n",
       "  <tbody>\n",
       "    <tr>\n",
       "      <th>490</th>\n",
       "      <td>ADF0631</td>\n",
       "      <td>-5.0</td>\n",
       "      <td>-0.17</td>\n",
       "      <td>857.1008</td>\n",
       "      <td>63.47</td>\n",
       "      <td>190.03</td>\n",
       "      <td>1.565901e+06</td>\n",
       "      <td>204.0</td>\n",
       "      <td>716.0</td>\n",
       "      <td>1240.0</td>\n",
       "      <td>1.0</td>\n",
       "      <td>3G</td>\n",
       "      <td>3G</td>\n",
       "      <td>ToCall</td>\n",
       "      <td>ToCall</td>\n",
       "      <td>1.0</td>\n",
       "    </tr>\n",
       "    <tr>\n",
       "      <th>916</th>\n",
       "      <td>ADF1925</td>\n",
       "      <td>-4.0</td>\n",
       "      <td>-0.13</td>\n",
       "      <td>2898.8240</td>\n",
       "      <td>25.10</td>\n",
       "      <td>1.25</td>\n",
       "      <td>3.058533e+05</td>\n",
       "      <td>642.0</td>\n",
       "      <td>0.0</td>\n",
       "      <td>82221.0</td>\n",
       "      <td>1.0</td>\n",
       "      <td>3G</td>\n",
       "      <td>3G</td>\n",
       "      <td>Mango</td>\n",
       "      <td>Weematel</td>\n",
       "      <td>1.0</td>\n",
       "    </tr>\n",
       "    <tr>\n",
       "      <th>1163</th>\n",
       "      <td>ADF1623</td>\n",
       "      <td>-2.0</td>\n",
       "      <td>-0.07</td>\n",
       "      <td>130.5780</td>\n",
       "      <td>94.85</td>\n",
       "      <td>1.25</td>\n",
       "      <td>2.195300e+00</td>\n",
       "      <td>7.0</td>\n",
       "      <td>150.0</td>\n",
       "      <td>1121.0</td>\n",
       "      <td>1.0</td>\n",
       "      <td>Other</td>\n",
       "      <td>Other</td>\n",
       "      <td>Uxaa</td>\n",
       "      <td>Uxaa</td>\n",
       "      <td>1.0</td>\n",
       "    </tr>\n",
       "  </tbody>\n",
       "</table>\n",
       "</div>"
      ],
      "text/plain": [
       "     Customer ID  network_age  Customer tenure in month  \\\n",
       "490      ADF0631         -5.0                     -0.17   \n",
       "916      ADF1925         -4.0                     -0.13   \n",
       "1163     ADF1623         -2.0                     -0.07   \n",
       "\n",
       "      Total Spend in Months 1 and 2 of 2017  Total SMS Spend  \\\n",
       "490                                857.1008            63.47   \n",
       "916                               2898.8240            25.10   \n",
       "1163                               130.5780            94.85   \n",
       "\n",
       "      Total Data Spend  Total Data Consumption  Total Unique Calls  \\\n",
       "490             190.03            1.565901e+06               204.0   \n",
       "916               1.25            3.058533e+05               642.0   \n",
       "1163              1.25            2.195300e+00                 7.0   \n",
       "\n",
       "      Total Onnet spend   Total Offnet spend  \\\n",
       "490                716.0              1240.0   \n",
       "916                  0.0             82221.0   \n",
       "1163               150.0              1121.0   \n",
       "\n",
       "      Total Call centre complaint calls Network type subscription in Month 1  \\\n",
       "490                                 1.0                                   3G   \n",
       "916                                 1.0                                   3G   \n",
       "1163                                1.0                                Other   \n",
       "\n",
       "     Network type subscription in Month 2  \\\n",
       "490                                    3G   \n",
       "916                                    3G   \n",
       "1163                                Other   \n",
       "\n",
       "     Most Loved Competitor network in in Month 1  \\\n",
       "490                                       ToCall   \n",
       "916                                        Mango   \n",
       "1163                                        Uxaa   \n",
       "\n",
       "     Most Loved Competitor network in in Month 2  Churn Status  \n",
       "490                                       ToCall           1.0  \n",
       "916                                     Weematel           1.0  \n",
       "1163                                        Uxaa           1.0  "
      ]
     },
     "execution_count": 136,
     "metadata": {},
     "output_type": "execute_result"
    }
   ],
   "source": [
    "# Valores sin sentido\n",
    "data_kaggle[data_kaggle[\"network_age\"]<0]"
   ]
  },
  {
   "cell_type": "code",
   "execution_count": 137,
   "metadata": {},
   "outputs": [
    {
     "data": {
      "text/plain": [
       "array(['Uxaa', 'Weematel', '0', 'Zintel', 'Mango', 'ToCall', 'PQza', nan],\n",
       "      dtype=object)"
      ]
     },
     "execution_count": 137,
     "metadata": {},
     "output_type": "execute_result"
    }
   ],
   "source": [
    "data_kaggle[\"Most Loved Competitor network in in Month 1\"].unique()"
   ]
  },
  {
   "attachments": {},
   "cell_type": "markdown",
   "metadata": {},
   "source": [
    "* Cleaning Data\n",
    "\n",
    "Limpiamos `NaN` y valores sin sentido. Dado que ya hemos analizado con el otro subconjunto de datos que las variables categóricas originales son irrelevantes a efectos predictivos, ni siquiera vamos a tratar de imputar o filtrar el valor `0` para el competidor preferido por el cliente en el primer mes."
   ]
  },
  {
   "attachments": {},
   "cell_type": "markdown",
   "metadata": {},
   "source": [
    "1. Limpieza de NaNs y check"
   ]
  },
  {
   "cell_type": "code",
   "execution_count": 143,
   "metadata": {},
   "outputs": [
    {
     "data": {
      "text/html": [
       "<div>\n",
       "<style scoped>\n",
       "    .dataframe tbody tr th:only-of-type {\n",
       "        vertical-align: middle;\n",
       "    }\n",
       "\n",
       "    .dataframe tbody tr th {\n",
       "        vertical-align: top;\n",
       "    }\n",
       "\n",
       "    .dataframe thead th {\n",
       "        text-align: right;\n",
       "    }\n",
       "</style>\n",
       "<table border=\"1\" class=\"dataframe\">\n",
       "  <thead>\n",
       "    <tr style=\"text-align: right;\">\n",
       "      <th></th>\n",
       "      <th>Customer ID</th>\n",
       "      <th>network_age</th>\n",
       "      <th>Customer tenure in month</th>\n",
       "      <th>Total Spend in Months 1 and 2 of 2017</th>\n",
       "      <th>Total SMS Spend</th>\n",
       "      <th>Total Data Spend</th>\n",
       "      <th>Total Data Consumption</th>\n",
       "      <th>Total Unique Calls</th>\n",
       "      <th>Total Onnet spend</th>\n",
       "      <th>Total Offnet spend</th>\n",
       "      <th>Total Call centre complaint calls</th>\n",
       "      <th>Network type subscription in Month 1</th>\n",
       "      <th>Network type subscription in Month 2</th>\n",
       "      <th>Most Loved Competitor network in in Month 1</th>\n",
       "      <th>Most Loved Competitor network in in Month 2</th>\n",
       "      <th>Churn Status</th>\n",
       "    </tr>\n",
       "  </thead>\n",
       "  <tbody>\n",
       "  </tbody>\n",
       "</table>\n",
       "</div>"
      ],
      "text/plain": [
       "Empty DataFrame\n",
       "Columns: [Customer ID, network_age, Customer tenure in month, Total Spend in Months 1 and 2 of 2017, Total SMS Spend, Total Data Spend, Total Data Consumption, Total Unique Calls, Total Onnet spend , Total Offnet spend, Total Call centre complaint calls, Network type subscription in Month 1, Network type subscription in Month 2, Most Loved Competitor network in in Month 1, Most Loved Competitor network in in Month 2, Churn Status]\n",
       "Index: []"
      ]
     },
     "execution_count": 143,
     "metadata": {},
     "output_type": "execute_result"
    }
   ],
   "source": [
    "data_kaggle.dropna(inplace=True)\n",
    "\n",
    "subset = data_kaggle[\"network_age\"]>=0\n",
    "data_kaggle = data_kaggle[subset]\n",
    "\n",
    "data_kaggle[data_kaggle[\"network_age\"]<0]"
   ]
  },
  {
   "cell_type": "code",
   "execution_count": 139,
   "metadata": {},
   "outputs": [
    {
     "data": {
      "text/plain": [
       "Customer ID                                    0\n",
       "network_age                                    0\n",
       "Customer tenure in month                       0\n",
       "Total Spend in Months 1 and 2 of 2017          0\n",
       "Total SMS Spend                                0\n",
       "Total Data Spend                               0\n",
       "Total Data Consumption                         0\n",
       "Total Unique Calls                             0\n",
       "Total Onnet spend                              0\n",
       "Total Offnet spend                             0\n",
       "Total Call centre complaint calls              0\n",
       "Network type subscription in Month 1           0\n",
       "Network type subscription in Month 2           0\n",
       "Most Loved Competitor network in in Month 1    0\n",
       "Most Loved Competitor network in in Month 2    0\n",
       "Churn Status                                   0\n",
       "dtype: int64"
      ]
     },
     "execution_count": 139,
     "metadata": {},
     "output_type": "execute_result"
    }
   ],
   "source": [
    "data_kaggle.isna().sum()"
   ]
  },
  {
   "cell_type": "code",
   "execution_count": 140,
   "metadata": {},
   "outputs": [
    {
     "data": {
      "text/plain": [
       "(1199, 16)"
      ]
     },
     "execution_count": 140,
     "metadata": {},
     "output_type": "execute_result"
    }
   ],
   "source": [
    "data_kaggle.shape"
   ]
  },
  {
   "cell_type": "code",
   "execution_count": 155,
   "metadata": {},
   "outputs": [
    {
     "data": {
      "image/png": "[encoded data removed]",
      "text/plain": [
       "<Figure size 640x480 with 1 Axes>"
      ]
     },
     "metadata": {},
     "output_type": "display_data"
    }
   ],
   "source": [
    "# Check Label Balancing\n",
    "import seaborn as sns\n",
    "sns.countplot(x=\"Churn Status\", data=data_kaggle);"
   ]
  },
  {
   "cell_type": "code",
   "execution_count": 156,
   "metadata": {},
   "outputs": [
    {
     "data": {
      "text/plain": [
       "'/home/hcf/Documentos/PDS01_datathon'"
      ]
     },
     "execution_count": 156,
     "metadata": {},
     "output_type": "execute_result"
    }
   ],
   "source": [
    "%pwd"
   ]
  },
  {
   "cell_type": "code",
   "execution_count": 157,
   "metadata": {},
   "outputs": [
    {
     "data": {
      "text/html": [
       "<div>\n",
       "<style scoped>\n",
       "    .dataframe tbody tr th:only-of-type {\n",
       "        vertical-align: middle;\n",
       "    }\n",
       "\n",
       "    .dataframe tbody tr th {\n",
       "        vertical-align: top;\n",
       "    }\n",
       "\n",
       "    .dataframe thead th {\n",
       "        text-align: right;\n",
       "    }\n",
       "</style>\n",
       "<table border=\"1\" class=\"dataframe\">\n",
       "  <thead>\n",
       "    <tr style=\"text-align: right;\">\n",
       "      <th></th>\n",
       "      <th>Customer ID</th>\n",
       "      <th>network_age</th>\n",
       "      <th>Customer tenure in month</th>\n",
       "      <th>Total Spend in Months 1 and 2 of 2017</th>\n",
       "      <th>Total SMS Spend</th>\n",
       "      <th>Total Data Spend</th>\n",
       "      <th>Total Data Consumption</th>\n",
       "      <th>Total Unique Calls</th>\n",
       "      <th>Total Onnet spend</th>\n",
       "      <th>Total Offnet spend</th>\n",
       "      <th>Total Call centre complaint calls</th>\n",
       "      <th>Network type subscription in Month 1</th>\n",
       "      <th>Network type subscription in Month 2</th>\n",
       "      <th>Most Loved Competitor network in in Month 1</th>\n",
       "      <th>Most Loved Competitor network in in Month 2</th>\n",
       "      <th>Churn Status</th>\n",
       "    </tr>\n",
       "  </thead>\n",
       "  <tbody>\n",
       "    <tr>\n",
       "      <th>0</th>\n",
       "      <td>ADF0039</td>\n",
       "      <td>123.0</td>\n",
       "      <td>4.10</td>\n",
       "      <td>76.7140</td>\n",
       "      <td>0.00</td>\n",
       "      <td>1.25</td>\n",
       "      <td>1.495100e+00</td>\n",
       "      <td>14.0</td>\n",
       "      <td>564.0</td>\n",
       "      <td>6408.0</td>\n",
       "      <td>2.0</td>\n",
       "      <td>2G</td>\n",
       "      <td>2G</td>\n",
       "      <td>Uxaa</td>\n",
       "      <td>Mango</td>\n",
       "      <td>0.0</td>\n",
       "    </tr>\n",
       "    <tr>\n",
       "      <th>1</th>\n",
       "      <td>ADF0041</td>\n",
       "      <td>1316.0</td>\n",
       "      <td>43.87</td>\n",
       "      <td>98.8904</td>\n",
       "      <td>4.14</td>\n",
       "      <td>1.25</td>\n",
       "      <td>1.024400e+00</td>\n",
       "      <td>27.0</td>\n",
       "      <td>1626.0</td>\n",
       "      <td>4373.0</td>\n",
       "      <td>1.0</td>\n",
       "      <td>2G</td>\n",
       "      <td>2G</td>\n",
       "      <td>Uxaa</td>\n",
       "      <td>Mango</td>\n",
       "      <td>0.0</td>\n",
       "    </tr>\n",
       "    <tr>\n",
       "      <th>2</th>\n",
       "      <td>ADF0051</td>\n",
       "      <td>2385.0</td>\n",
       "      <td>79.50</td>\n",
       "      <td>372.6300</td>\n",
       "      <td>3.51</td>\n",
       "      <td>1.25</td>\n",
       "      <td>6.089800e+00</td>\n",
       "      <td>119.0</td>\n",
       "      <td>10411.0</td>\n",
       "      <td>22039.0</td>\n",
       "      <td>1.0</td>\n",
       "      <td>2G</td>\n",
       "      <td>2G</td>\n",
       "      <td>Weematel</td>\n",
       "      <td>Mango</td>\n",
       "      <td>0.0</td>\n",
       "    </tr>\n",
       "    <tr>\n",
       "      <th>3</th>\n",
       "      <td>ADF0059</td>\n",
       "      <td>1614.0</td>\n",
       "      <td>53.80</td>\n",
       "      <td>530.2000</td>\n",
       "      <td>6.85</td>\n",
       "      <td>1.25</td>\n",
       "      <td>3.344700e+00</td>\n",
       "      <td>69.0</td>\n",
       "      <td>6822.0</td>\n",
       "      <td>6274.0</td>\n",
       "      <td>1.0</td>\n",
       "      <td>2G</td>\n",
       "      <td>2G</td>\n",
       "      <td>0</td>\n",
       "      <td>Mango</td>\n",
       "      <td>0.0</td>\n",
       "    </tr>\n",
       "    <tr>\n",
       "      <th>4</th>\n",
       "      <td>ADF0060</td>\n",
       "      <td>2175.0</td>\n",
       "      <td>72.50</td>\n",
       "      <td>554.1300</td>\n",
       "      <td>6.99</td>\n",
       "      <td>153.75</td>\n",
       "      <td>6.732040e+05</td>\n",
       "      <td>33.0</td>\n",
       "      <td>3387.0</td>\n",
       "      <td>7241.0</td>\n",
       "      <td>1.0</td>\n",
       "      <td>2G</td>\n",
       "      <td>3G</td>\n",
       "      <td>Weematel</td>\n",
       "      <td>Mango</td>\n",
       "      <td>0.0</td>\n",
       "    </tr>\n",
       "    <tr>\n",
       "      <th>...</th>\n",
       "      <td>...</td>\n",
       "      <td>...</td>\n",
       "      <td>...</td>\n",
       "      <td>...</td>\n",
       "      <td>...</td>\n",
       "      <td>...</td>\n",
       "      <td>...</td>\n",
       "      <td>...</td>\n",
       "      <td>...</td>\n",
       "      <td>...</td>\n",
       "      <td>...</td>\n",
       "      <td>...</td>\n",
       "      <td>...</td>\n",
       "      <td>...</td>\n",
       "      <td>...</td>\n",
       "      <td>...</td>\n",
       "    </tr>\n",
       "    <tr>\n",
       "      <th>1220</th>\n",
       "      <td>ADF1975</td>\n",
       "      <td>356.0</td>\n",
       "      <td>11.87</td>\n",
       "      <td>89.3780</td>\n",
       "      <td>16.73</td>\n",
       "      <td>8.75</td>\n",
       "      <td>1.332481e+03</td>\n",
       "      <td>4.0</td>\n",
       "      <td>0.0</td>\n",
       "      <td>2607.0</td>\n",
       "      <td>1.0</td>\n",
       "      <td>Other</td>\n",
       "      <td>Other</td>\n",
       "      <td>Zintel</td>\n",
       "      <td>Zintel</td>\n",
       "      <td>1.0</td>\n",
       "    </tr>\n",
       "    <tr>\n",
       "      <th>1221</th>\n",
       "      <td>ADF1978</td>\n",
       "      <td>107.0</td>\n",
       "      <td>3.57</td>\n",
       "      <td>128.5100</td>\n",
       "      <td>5.98</td>\n",
       "      <td>22.50</td>\n",
       "      <td>4.780016e+04</td>\n",
       "      <td>17.0</td>\n",
       "      <td>120.0</td>\n",
       "      <td>6476.0</td>\n",
       "      <td>2.0</td>\n",
       "      <td>Other</td>\n",
       "      <td>Other</td>\n",
       "      <td>Mango</td>\n",
       "      <td>Zintel</td>\n",
       "      <td>1.0</td>\n",
       "    </tr>\n",
       "    <tr>\n",
       "      <th>1222</th>\n",
       "      <td>ADF1979</td>\n",
       "      <td>107.0</td>\n",
       "      <td>3.57</td>\n",
       "      <td>139.1360</td>\n",
       "      <td>0.00</td>\n",
       "      <td>20.00</td>\n",
       "      <td>1.509482e+06</td>\n",
       "      <td>8.0</td>\n",
       "      <td>0.0</td>\n",
       "      <td>2806.0</td>\n",
       "      <td>1.0</td>\n",
       "      <td>Other</td>\n",
       "      <td>Other</td>\n",
       "      <td>Zintel</td>\n",
       "      <td>Zintel</td>\n",
       "      <td>1.0</td>\n",
       "    </tr>\n",
       "    <tr>\n",
       "      <th>1223</th>\n",
       "      <td>ADF1985</td>\n",
       "      <td>1361.0</td>\n",
       "      <td>45.37</td>\n",
       "      <td>204.3128</td>\n",
       "      <td>28.05</td>\n",
       "      <td>2.50</td>\n",
       "      <td>1.142600e+00</td>\n",
       "      <td>36.0</td>\n",
       "      <td>966.0</td>\n",
       "      <td>10314.0</td>\n",
       "      <td>1.0</td>\n",
       "      <td>Other</td>\n",
       "      <td>Other</td>\n",
       "      <td>Weematel</td>\n",
       "      <td>Zintel</td>\n",
       "      <td>1.0</td>\n",
       "    </tr>\n",
       "    <tr>\n",
       "      <th>1224</th>\n",
       "      <td>ADF1995</td>\n",
       "      <td>161.0</td>\n",
       "      <td>5.37</td>\n",
       "      <td>1109.1980</td>\n",
       "      <td>22.64</td>\n",
       "      <td>6.25</td>\n",
       "      <td>9.781816e+02</td>\n",
       "      <td>385.0</td>\n",
       "      <td>11700.0</td>\n",
       "      <td>67635.0</td>\n",
       "      <td>1.0</td>\n",
       "      <td>Other</td>\n",
       "      <td>Other</td>\n",
       "      <td>Zintel</td>\n",
       "      <td>Zintel</td>\n",
       "      <td>1.0</td>\n",
       "    </tr>\n",
       "  </tbody>\n",
       "</table>\n",
       "<p>1199 rows × 16 columns</p>\n",
       "</div>"
      ],
      "text/plain": [
       "     Customer ID  network_age  Customer tenure in month  \\\n",
       "0        ADF0039        123.0                      4.10   \n",
       "1        ADF0041       1316.0                     43.87   \n",
       "2        ADF0051       2385.0                     79.50   \n",
       "3        ADF0059       1614.0                     53.80   \n",
       "4        ADF0060       2175.0                     72.50   \n",
       "...          ...          ...                       ...   \n",
       "1220     ADF1975        356.0                     11.87   \n",
       "1221     ADF1978        107.0                      3.57   \n",
       "1222     ADF1979        107.0                      3.57   \n",
       "1223     ADF1985       1361.0                     45.37   \n",
       "1224     ADF1995        161.0                      5.37   \n",
       "\n",
       "      Total Spend in Months 1 and 2 of 2017  Total SMS Spend  \\\n",
       "0                                   76.7140             0.00   \n",
       "1                                   98.8904             4.14   \n",
       "2                                  372.6300             3.51   \n",
       "3                                  530.2000             6.85   \n",
       "4                                  554.1300             6.99   \n",
       "...                                     ...              ...   \n",
       "1220                                89.3780            16.73   \n",
       "1221                               128.5100             5.98   \n",
       "1222                               139.1360             0.00   \n",
       "1223                               204.3128            28.05   \n",
       "1224                              1109.1980            22.64   \n",
       "\n",
       "      Total Data Spend  Total Data Consumption  Total Unique Calls  \\\n",
       "0                 1.25            1.495100e+00                14.0   \n",
       "1                 1.25            1.024400e+00                27.0   \n",
       "2                 1.25            6.089800e+00               119.0   \n",
       "3                 1.25            3.344700e+00                69.0   \n",
       "4               153.75            6.732040e+05                33.0   \n",
       "...                ...                     ...                 ...   \n",
       "1220              8.75            1.332481e+03                 4.0   \n",
       "1221             22.50            4.780016e+04                17.0   \n",
       "1222             20.00            1.509482e+06                 8.0   \n",
       "1223              2.50            1.142600e+00                36.0   \n",
       "1224              6.25            9.781816e+02               385.0   \n",
       "\n",
       "      Total Onnet spend   Total Offnet spend  \\\n",
       "0                  564.0              6408.0   \n",
       "1                 1626.0              4373.0   \n",
       "2                10411.0             22039.0   \n",
       "3                 6822.0              6274.0   \n",
       "4                 3387.0              7241.0   \n",
       "...                  ...                 ...   \n",
       "1220                 0.0              2607.0   \n",
       "1221               120.0              6476.0   \n",
       "1222                 0.0              2806.0   \n",
       "1223               966.0             10314.0   \n",
       "1224             11700.0             67635.0   \n",
       "\n",
       "      Total Call centre complaint calls Network type subscription in Month 1  \\\n",
       "0                                   2.0                                   2G   \n",
       "1                                   1.0                                   2G   \n",
       "2                                   1.0                                   2G   \n",
       "3                                   1.0                                   2G   \n",
       "4                                   1.0                                   2G   \n",
       "...                                 ...                                  ...   \n",
       "1220                                1.0                                Other   \n",
       "1221                                2.0                                Other   \n",
       "1222                                1.0                                Other   \n",
       "1223                                1.0                                Other   \n",
       "1224                                1.0                                Other   \n",
       "\n",
       "     Network type subscription in Month 2  \\\n",
       "0                                      2G   \n",
       "1                                      2G   \n",
       "2                                      2G   \n",
       "3                                      2G   \n",
       "4                                      3G   \n",
       "...                                   ...   \n",
       "1220                                Other   \n",
       "1221                                Other   \n",
       "1222                                Other   \n",
       "1223                                Other   \n",
       "1224                                Other   \n",
       "\n",
       "     Most Loved Competitor network in in Month 1  \\\n",
       "0                                           Uxaa   \n",
       "1                                           Uxaa   \n",
       "2                                       Weematel   \n",
       "3                                              0   \n",
       "4                                       Weematel   \n",
       "...                                          ...   \n",
       "1220                                      Zintel   \n",
       "1221                                       Mango   \n",
       "1222                                      Zintel   \n",
       "1223                                    Weematel   \n",
       "1224                                      Zintel   \n",
       "\n",
       "     Most Loved Competitor network in in Month 2  Churn Status  \n",
       "0                                          Mango           0.0  \n",
       "1                                          Mango           0.0  \n",
       "2                                          Mango           0.0  \n",
       "3                                          Mango           0.0  \n",
       "4                                          Mango           0.0  \n",
       "...                                          ...           ...  \n",
       "1220                                      Zintel           1.0  \n",
       "1221                                      Zintel           1.0  \n",
       "1222                                      Zintel           1.0  \n",
       "1223                                      Zintel           1.0  \n",
       "1224                                      Zintel           1.0  \n",
       "\n",
       "[1199 rows x 16 columns]"
      ]
     },
     "execution_count": 157,
     "metadata": {},
     "output_type": "execute_result"
    }
   ],
   "source": [
    "data_kaggle"
   ]
  },
  {
   "cell_type": "code",
   "execution_count": 159,
   "metadata": {},
   "outputs": [
    {
     "name": "stdout",
     "output_type": "stream",
     "text": [
      "['network_age', 'Customer tenure in month', 'Total Spend in Months 1 and 2 of 2017', 'Total SMS Spend', 'Total Data Spend', 'Total Data Consumption', 'Total Unique Calls', 'Total Onnet spend ', 'Total Offnet spend', 'Total Call centre complaint calls', 'Churn Status']\n"
     ]
    }
   ],
   "source": [
    "print(data_kaggle.select_dtypes(\"number\").columns.tolist())"
   ]
  },
  {
   "cell_type": "code",
   "execution_count": 160,
   "metadata": {},
   "outputs": [],
   "source": [
    "data_kaggle.rename(\n",
    "    columns={\n",
    "        'Total Spend in Months 1 and 2 of 2017': 'spend_mo12',\n",
    "        'Total Call centre complaint calls': 'complaint_calls'\n",
    "    },\n",
    "    inplace=True\n",
    ")"
   ]
  },
  {
   "cell_type": "code",
   "execution_count": 161,
   "metadata": {},
   "outputs": [],
   "source": [
    "data_kaggle.to_csv(\n",
    "    \"./kaggle_data/cleaned_train.csv\",\n",
    "    index=False\n",
    ")"
   ]
  },
  {
   "cell_type": "code",
   "execution_count": 162,
   "metadata": {},
   "outputs": [
    {
     "data": {
      "text/html": [
       "<div>\n",
       "<style scoped>\n",
       "    .dataframe tbody tr th:only-of-type {\n",
       "        vertical-align: middle;\n",
       "    }\n",
       "\n",
       "    .dataframe tbody tr th {\n",
       "        vertical-align: top;\n",
       "    }\n",
       "\n",
       "    .dataframe thead th {\n",
       "        text-align: right;\n",
       "    }\n",
       "</style>\n",
       "<table border=\"1\" class=\"dataframe\">\n",
       "  <thead>\n",
       "    <tr style=\"text-align: right;\">\n",
       "      <th></th>\n",
       "      <th>Customer ID</th>\n",
       "      <th>network_age</th>\n",
       "      <th>Customer tenure in month</th>\n",
       "      <th>spend_mo12</th>\n",
       "      <th>Total SMS Spend</th>\n",
       "      <th>Total Data Spend</th>\n",
       "      <th>Total Data Consumption</th>\n",
       "      <th>Total Unique Calls</th>\n",
       "      <th>Total Onnet spend</th>\n",
       "      <th>Total Offnet spend</th>\n",
       "      <th>complaint_calls</th>\n",
       "      <th>Network type subscription in Month 1</th>\n",
       "      <th>Network type subscription in Month 2</th>\n",
       "      <th>Most Loved Competitor network in in Month 1</th>\n",
       "      <th>Most Loved Competitor network in in Month 2</th>\n",
       "      <th>Churn Status</th>\n",
       "    </tr>\n",
       "  </thead>\n",
       "  <tbody>\n",
       "    <tr>\n",
       "      <th>0</th>\n",
       "      <td>ADF0039</td>\n",
       "      <td>123.0</td>\n",
       "      <td>4.10</td>\n",
       "      <td>76.7140</td>\n",
       "      <td>0.00</td>\n",
       "      <td>1.25</td>\n",
       "      <td>1.495100e+00</td>\n",
       "      <td>14.0</td>\n",
       "      <td>564.0</td>\n",
       "      <td>6408.0</td>\n",
       "      <td>2.0</td>\n",
       "      <td>2G</td>\n",
       "      <td>2G</td>\n",
       "      <td>Uxaa</td>\n",
       "      <td>Mango</td>\n",
       "      <td>0.0</td>\n",
       "    </tr>\n",
       "    <tr>\n",
       "      <th>1</th>\n",
       "      <td>ADF0041</td>\n",
       "      <td>1316.0</td>\n",
       "      <td>43.87</td>\n",
       "      <td>98.8904</td>\n",
       "      <td>4.14</td>\n",
       "      <td>1.25</td>\n",
       "      <td>1.024400e+00</td>\n",
       "      <td>27.0</td>\n",
       "      <td>1626.0</td>\n",
       "      <td>4373.0</td>\n",
       "      <td>1.0</td>\n",
       "      <td>2G</td>\n",
       "      <td>2G</td>\n",
       "      <td>Uxaa</td>\n",
       "      <td>Mango</td>\n",
       "      <td>0.0</td>\n",
       "    </tr>\n",
       "    <tr>\n",
       "      <th>2</th>\n",
       "      <td>ADF0051</td>\n",
       "      <td>2385.0</td>\n",
       "      <td>79.50</td>\n",
       "      <td>372.6300</td>\n",
       "      <td>3.51</td>\n",
       "      <td>1.25</td>\n",
       "      <td>6.089800e+00</td>\n",
       "      <td>119.0</td>\n",
       "      <td>10411.0</td>\n",
       "      <td>22039.0</td>\n",
       "      <td>1.0</td>\n",
       "      <td>2G</td>\n",
       "      <td>2G</td>\n",
       "      <td>Weematel</td>\n",
       "      <td>Mango</td>\n",
       "      <td>0.0</td>\n",
       "    </tr>\n",
       "    <tr>\n",
       "      <th>3</th>\n",
       "      <td>ADF0059</td>\n",
       "      <td>1614.0</td>\n",
       "      <td>53.80</td>\n",
       "      <td>530.2000</td>\n",
       "      <td>6.85</td>\n",
       "      <td>1.25</td>\n",
       "      <td>3.344700e+00</td>\n",
       "      <td>69.0</td>\n",
       "      <td>6822.0</td>\n",
       "      <td>6274.0</td>\n",
       "      <td>1.0</td>\n",
       "      <td>2G</td>\n",
       "      <td>2G</td>\n",
       "      <td>0</td>\n",
       "      <td>Mango</td>\n",
       "      <td>0.0</td>\n",
       "    </tr>\n",
       "    <tr>\n",
       "      <th>4</th>\n",
       "      <td>ADF0060</td>\n",
       "      <td>2175.0</td>\n",
       "      <td>72.50</td>\n",
       "      <td>554.1300</td>\n",
       "      <td>6.99</td>\n",
       "      <td>153.75</td>\n",
       "      <td>6.732040e+05</td>\n",
       "      <td>33.0</td>\n",
       "      <td>3387.0</td>\n",
       "      <td>7241.0</td>\n",
       "      <td>1.0</td>\n",
       "      <td>2G</td>\n",
       "      <td>3G</td>\n",
       "      <td>Weematel</td>\n",
       "      <td>Mango</td>\n",
       "      <td>0.0</td>\n",
       "    </tr>\n",
       "    <tr>\n",
       "      <th>...</th>\n",
       "      <td>...</td>\n",
       "      <td>...</td>\n",
       "      <td>...</td>\n",
       "      <td>...</td>\n",
       "      <td>...</td>\n",
       "      <td>...</td>\n",
       "      <td>...</td>\n",
       "      <td>...</td>\n",
       "      <td>...</td>\n",
       "      <td>...</td>\n",
       "      <td>...</td>\n",
       "      <td>...</td>\n",
       "      <td>...</td>\n",
       "      <td>...</td>\n",
       "      <td>...</td>\n",
       "      <td>...</td>\n",
       "    </tr>\n",
       "    <tr>\n",
       "      <th>1220</th>\n",
       "      <td>ADF1975</td>\n",
       "      <td>356.0</td>\n",
       "      <td>11.87</td>\n",
       "      <td>89.3780</td>\n",
       "      <td>16.73</td>\n",
       "      <td>8.75</td>\n",
       "      <td>1.332481e+03</td>\n",
       "      <td>4.0</td>\n",
       "      <td>0.0</td>\n",
       "      <td>2607.0</td>\n",
       "      <td>1.0</td>\n",
       "      <td>Other</td>\n",
       "      <td>Other</td>\n",
       "      <td>Zintel</td>\n",
       "      <td>Zintel</td>\n",
       "      <td>1.0</td>\n",
       "    </tr>\n",
       "    <tr>\n",
       "      <th>1221</th>\n",
       "      <td>ADF1978</td>\n",
       "      <td>107.0</td>\n",
       "      <td>3.57</td>\n",
       "      <td>128.5100</td>\n",
       "      <td>5.98</td>\n",
       "      <td>22.50</td>\n",
       "      <td>4.780016e+04</td>\n",
       "      <td>17.0</td>\n",
       "      <td>120.0</td>\n",
       "      <td>6476.0</td>\n",
       "      <td>2.0</td>\n",
       "      <td>Other</td>\n",
       "      <td>Other</td>\n",
       "      <td>Mango</td>\n",
       "      <td>Zintel</td>\n",
       "      <td>1.0</td>\n",
       "    </tr>\n",
       "    <tr>\n",
       "      <th>1222</th>\n",
       "      <td>ADF1979</td>\n",
       "      <td>107.0</td>\n",
       "      <td>3.57</td>\n",
       "      <td>139.1360</td>\n",
       "      <td>0.00</td>\n",
       "      <td>20.00</td>\n",
       "      <td>1.509482e+06</td>\n",
       "      <td>8.0</td>\n",
       "      <td>0.0</td>\n",
       "      <td>2806.0</td>\n",
       "      <td>1.0</td>\n",
       "      <td>Other</td>\n",
       "      <td>Other</td>\n",
       "      <td>Zintel</td>\n",
       "      <td>Zintel</td>\n",
       "      <td>1.0</td>\n",
       "    </tr>\n",
       "    <tr>\n",
       "      <th>1223</th>\n",
       "      <td>ADF1985</td>\n",
       "      <td>1361.0</td>\n",
       "      <td>45.37</td>\n",
       "      <td>204.3128</td>\n",
       "      <td>28.05</td>\n",
       "      <td>2.50</td>\n",
       "      <td>1.142600e+00</td>\n",
       "      <td>36.0</td>\n",
       "      <td>966.0</td>\n",
       "      <td>10314.0</td>\n",
       "      <td>1.0</td>\n",
       "      <td>Other</td>\n",
       "      <td>Other</td>\n",
       "      <td>Weematel</td>\n",
       "      <td>Zintel</td>\n",
       "      <td>1.0</td>\n",
       "    </tr>\n",
       "    <tr>\n",
       "      <th>1224</th>\n",
       "      <td>ADF1995</td>\n",
       "      <td>161.0</td>\n",
       "      <td>5.37</td>\n",
       "      <td>1109.1980</td>\n",
       "      <td>22.64</td>\n",
       "      <td>6.25</td>\n",
       "      <td>9.781816e+02</td>\n",
       "      <td>385.0</td>\n",
       "      <td>11700.0</td>\n",
       "      <td>67635.0</td>\n",
       "      <td>1.0</td>\n",
       "      <td>Other</td>\n",
       "      <td>Other</td>\n",
       "      <td>Zintel</td>\n",
       "      <td>Zintel</td>\n",
       "      <td>1.0</td>\n",
       "    </tr>\n",
       "  </tbody>\n",
       "</table>\n",
       "<p>1199 rows × 16 columns</p>\n",
       "</div>"
      ],
      "text/plain": [
       "     Customer ID  network_age  Customer tenure in month  spend_mo12  \\\n",
       "0        ADF0039        123.0                      4.10     76.7140   \n",
       "1        ADF0041       1316.0                     43.87     98.8904   \n",
       "2        ADF0051       2385.0                     79.50    372.6300   \n",
       "3        ADF0059       1614.0                     53.80    530.2000   \n",
       "4        ADF0060       2175.0                     72.50    554.1300   \n",
       "...          ...          ...                       ...         ...   \n",
       "1220     ADF1975        356.0                     11.87     89.3780   \n",
       "1221     ADF1978        107.0                      3.57    128.5100   \n",
       "1222     ADF1979        107.0                      3.57    139.1360   \n",
       "1223     ADF1985       1361.0                     45.37    204.3128   \n",
       "1224     ADF1995        161.0                      5.37   1109.1980   \n",
       "\n",
       "      Total SMS Spend  Total Data Spend  Total Data Consumption  \\\n",
       "0                0.00              1.25            1.495100e+00   \n",
       "1                4.14              1.25            1.024400e+00   \n",
       "2                3.51              1.25            6.089800e+00   \n",
       "3                6.85              1.25            3.344700e+00   \n",
       "4                6.99            153.75            6.732040e+05   \n",
       "...               ...               ...                     ...   \n",
       "1220            16.73              8.75            1.332481e+03   \n",
       "1221             5.98             22.50            4.780016e+04   \n",
       "1222             0.00             20.00            1.509482e+06   \n",
       "1223            28.05              2.50            1.142600e+00   \n",
       "1224            22.64              6.25            9.781816e+02   \n",
       "\n",
       "      Total Unique Calls  Total Onnet spend   Total Offnet spend  \\\n",
       "0                   14.0               564.0              6408.0   \n",
       "1                   27.0              1626.0              4373.0   \n",
       "2                  119.0             10411.0             22039.0   \n",
       "3                   69.0              6822.0              6274.0   \n",
       "4                   33.0              3387.0              7241.0   \n",
       "...                  ...                 ...                 ...   \n",
       "1220                 4.0                 0.0              2607.0   \n",
       "1221                17.0               120.0              6476.0   \n",
       "1222                 8.0                 0.0              2806.0   \n",
       "1223                36.0               966.0             10314.0   \n",
       "1224               385.0             11700.0             67635.0   \n",
       "\n",
       "      complaint_calls Network type subscription in Month 1  \\\n",
       "0                 2.0                                   2G   \n",
       "1                 1.0                                   2G   \n",
       "2                 1.0                                   2G   \n",
       "3                 1.0                                   2G   \n",
       "4                 1.0                                   2G   \n",
       "...               ...                                  ...   \n",
       "1220              1.0                                Other   \n",
       "1221              2.0                                Other   \n",
       "1222              1.0                                Other   \n",
       "1223              1.0                                Other   \n",
       "1224              1.0                                Other   \n",
       "\n",
       "     Network type subscription in Month 2  \\\n",
       "0                                      2G   \n",
       "1                                      2G   \n",
       "2                                      2G   \n",
       "3                                      2G   \n",
       "4                                      3G   \n",
       "...                                   ...   \n",
       "1220                                Other   \n",
       "1221                                Other   \n",
       "1222                                Other   \n",
       "1223                                Other   \n",
       "1224                                Other   \n",
       "\n",
       "     Most Loved Competitor network in in Month 1  \\\n",
       "0                                           Uxaa   \n",
       "1                                           Uxaa   \n",
       "2                                       Weematel   \n",
       "3                                              0   \n",
       "4                                       Weematel   \n",
       "...                                          ...   \n",
       "1220                                      Zintel   \n",
       "1221                                       Mango   \n",
       "1222                                      Zintel   \n",
       "1223                                    Weematel   \n",
       "1224                                      Zintel   \n",
       "\n",
       "     Most Loved Competitor network in in Month 2  Churn Status  \n",
       "0                                          Mango           0.0  \n",
       "1                                          Mango           0.0  \n",
       "2                                          Mango           0.0  \n",
       "3                                          Mango           0.0  \n",
       "4                                          Mango           0.0  \n",
       "...                                          ...           ...  \n",
       "1220                                      Zintel           1.0  \n",
       "1221                                      Zintel           1.0  \n",
       "1222                                      Zintel           1.0  \n",
       "1223                                      Zintel           1.0  \n",
       "1224                                      Zintel           1.0  \n",
       "\n",
       "[1199 rows x 16 columns]"
      ]
     },
     "execution_count": 162,
     "metadata": {},
     "output_type": "execute_result"
    }
   ],
   "source": [
    "data_kaggle"
   ]
  },
  {
   "cell_type": "code",
   "execution_count": 165,
   "metadata": {},
   "outputs": [
    {
     "data": {
      "text/plain": [
       "0       0\n",
       "1       0\n",
       "2       0\n",
       "3       0\n",
       "4       0\n",
       "       ..\n",
       "1220    1\n",
       "1221    1\n",
       "1222    1\n",
       "1223    1\n",
       "1224    1\n",
       "Name: Churn Status, Length: 1199, dtype: int64"
      ]
     },
     "execution_count": 165,
     "metadata": {},
     "output_type": "execute_result"
    }
   ],
   "source": [
    "data_kaggle[\"Churn Status\"].astype(int)"
   ]
  },
  {
   "attachments": {},
   "cell_type": "markdown",
   "metadata": {},
   "source": [
    "### 3 Loading Optuna Runs"
   ]
  },
  {
   "cell_type": "markdown",
   "metadata": {},
   "source": [
    "#### Run I: Naive Optuned"
   ]
  },
  {
   "cell_type": "code",
   "execution_count": 3,
   "metadata": {},
   "outputs": [],
   "source": [
    "jl = joblib.load(\"optuna_runs/20230227_1202_lgb_optuna_study_batch.pkl\")"
   ]
  },
  {
   "cell_type": "code",
   "execution_count": 7,
   "metadata": {},
   "outputs": [
    {
     "data": {
      "text/html": [
       "<div>\n",
       "<style scoped>\n",
       "    .dataframe tbody tr th:only-of-type {\n",
       "        vertical-align: middle;\n",
       "    }\n",
       "\n",
       "    .dataframe tbody tr th {\n",
       "        vertical-align: top;\n",
       "    }\n",
       "\n",
       "    .dataframe thead th {\n",
       "        text-align: right;\n",
       "    }\n",
       "</style>\n",
       "<table border=\"1\" class=\"dataframe\">\n",
       "  <thead>\n",
       "    <tr style=\"text-align: right;\">\n",
       "      <th></th>\n",
       "      <th>number</th>\n",
       "      <th>value</th>\n",
       "      <th>datetime_start</th>\n",
       "      <th>datetime_complete</th>\n",
       "      <th>duration</th>\n",
       "      <th>params_bagging_fraction</th>\n",
       "      <th>params_bagging_freq</th>\n",
       "      <th>params_feature_fraction</th>\n",
       "      <th>params_lambda_l1</th>\n",
       "      <th>params_lambda_l2</th>\n",
       "      <th>params_min_child_samples</th>\n",
       "      <th>params_num_leaves</th>\n",
       "      <th>state</th>\n",
       "    </tr>\n",
       "  </thead>\n",
       "  <tbody>\n",
       "    <tr>\n",
       "      <th>457</th>\n",
       "      <td>457</td>\n",
       "      <td>0.734848</td>\n",
       "      <td>2023-02-27 12:13:33.322045</td>\n",
       "      <td>2023-02-27 12:13:33.453231</td>\n",
       "      <td>0 days 00:00:00.131186</td>\n",
       "      <td>0.915722</td>\n",
       "      <td>7</td>\n",
       "      <td>0.769765</td>\n",
       "      <td>4.763620e-07</td>\n",
       "      <td>0.000141</td>\n",
       "      <td>43</td>\n",
       "      <td>118</td>\n",
       "      <td>COMPLETE</td>\n",
       "    </tr>\n",
       "    <tr>\n",
       "      <th>499</th>\n",
       "      <td>499</td>\n",
       "      <td>0.731061</td>\n",
       "      <td>2023-02-27 12:13:38.817337</td>\n",
       "      <td>2023-02-27 12:13:38.940260</td>\n",
       "      <td>0 days 00:00:00.122923</td>\n",
       "      <td>0.498122</td>\n",
       "      <td>4</td>\n",
       "      <td>0.666842</td>\n",
       "      <td>2.766598e-02</td>\n",
       "      <td>0.001684</td>\n",
       "      <td>52</td>\n",
       "      <td>149</td>\n",
       "      <td>COMPLETE</td>\n",
       "    </tr>\n",
       "    <tr>\n",
       "      <th>187</th>\n",
       "      <td>187</td>\n",
       "      <td>0.731061</td>\n",
       "      <td>2023-02-27 12:13:01.539356</td>\n",
       "      <td>2023-02-27 12:13:01.642477</td>\n",
       "      <td>0 days 00:00:00.103121</td>\n",
       "      <td>0.817952</td>\n",
       "      <td>7</td>\n",
       "      <td>0.642137</td>\n",
       "      <td>3.110861e-06</td>\n",
       "      <td>0.003207</td>\n",
       "      <td>44</td>\n",
       "      <td>150</td>\n",
       "      <td>COMPLETE</td>\n",
       "    </tr>\n",
       "    <tr>\n",
       "      <th>265</th>\n",
       "      <td>265</td>\n",
       "      <td>0.731061</td>\n",
       "      <td>2023-02-27 12:13:10.188796</td>\n",
       "      <td>2023-02-27 12:13:10.302571</td>\n",
       "      <td>0 days 00:00:00.113775</td>\n",
       "      <td>0.905276</td>\n",
       "      <td>7</td>\n",
       "      <td>0.642087</td>\n",
       "      <td>3.164546e-06</td>\n",
       "      <td>0.005366</td>\n",
       "      <td>49</td>\n",
       "      <td>103</td>\n",
       "      <td>COMPLETE</td>\n",
       "    </tr>\n",
       "    <tr>\n",
       "      <th>282</th>\n",
       "      <td>282</td>\n",
       "      <td>0.727273</td>\n",
       "      <td>2023-02-27 12:13:12.198977</td>\n",
       "      <td>2023-02-27 12:13:12.312232</td>\n",
       "      <td>0 days 00:00:00.113255</td>\n",
       "      <td>0.885487</td>\n",
       "      <td>7</td>\n",
       "      <td>0.620151</td>\n",
       "      <td>3.056210e-06</td>\n",
       "      <td>0.001782</td>\n",
       "      <td>47</td>\n",
       "      <td>103</td>\n",
       "      <td>COMPLETE</td>\n",
       "    </tr>\n",
       "    <tr>\n",
       "      <th>...</th>\n",
       "      <td>...</td>\n",
       "      <td>...</td>\n",
       "      <td>...</td>\n",
       "      <td>...</td>\n",
       "      <td>...</td>\n",
       "      <td>...</td>\n",
       "      <td>...</td>\n",
       "      <td>...</td>\n",
       "      <td>...</td>\n",
       "      <td>...</td>\n",
       "      <td>...</td>\n",
       "      <td>...</td>\n",
       "      <td>...</td>\n",
       "    </tr>\n",
       "    <tr>\n",
       "      <th>0</th>\n",
       "      <td>0</td>\n",
       "      <td>0.678030</td>\n",
       "      <td>2023-02-27 12:12:43.232131</td>\n",
       "      <td>2023-02-27 12:12:43.276191</td>\n",
       "      <td>0 days 00:00:00.044060</td>\n",
       "      <td>0.683181</td>\n",
       "      <td>2</td>\n",
       "      <td>0.792517</td>\n",
       "      <td>1.157461e-06</td>\n",
       "      <td>0.002972</td>\n",
       "      <td>93</td>\n",
       "      <td>2</td>\n",
       "      <td>COMPLETE</td>\n",
       "    </tr>\n",
       "    <tr>\n",
       "      <th>42</th>\n",
       "      <td>42</td>\n",
       "      <td>0.674242</td>\n",
       "      <td>2023-02-27 12:12:46.769330</td>\n",
       "      <td>2023-02-27 12:12:46.849331</td>\n",
       "      <td>0 days 00:00:00.080001</td>\n",
       "      <td>0.710146</td>\n",
       "      <td>2</td>\n",
       "      <td>0.602661</td>\n",
       "      <td>3.081747e-06</td>\n",
       "      <td>0.005003</td>\n",
       "      <td>79</td>\n",
       "      <td>94</td>\n",
       "      <td>COMPLETE</td>\n",
       "    </tr>\n",
       "    <tr>\n",
       "      <th>496</th>\n",
       "      <td>496</td>\n",
       "      <td>0.674242</td>\n",
       "      <td>2023-02-27 12:13:38.442133</td>\n",
       "      <td>2023-02-27 12:13:38.564312</td>\n",
       "      <td>0 days 00:00:00.122179</td>\n",
       "      <td>0.468369</td>\n",
       "      <td>7</td>\n",
       "      <td>0.402679</td>\n",
       "      <td>9.010266e-06</td>\n",
       "      <td>0.000014</td>\n",
       "      <td>37</td>\n",
       "      <td>107</td>\n",
       "      <td>COMPLETE</td>\n",
       "    </tr>\n",
       "    <tr>\n",
       "      <th>236</th>\n",
       "      <td>236</td>\n",
       "      <td>0.674242</td>\n",
       "      <td>2023-02-27 12:13:06.867828</td>\n",
       "      <td>2023-02-27 12:13:06.967489</td>\n",
       "      <td>0 days 00:00:00.099661</td>\n",
       "      <td>0.837164</td>\n",
       "      <td>4</td>\n",
       "      <td>0.630261</td>\n",
       "      <td>5.297695e-08</td>\n",
       "      <td>0.002366</td>\n",
       "      <td>50</td>\n",
       "      <td>3</td>\n",
       "      <td>COMPLETE</td>\n",
       "    </tr>\n",
       "    <tr>\n",
       "      <th>65</th>\n",
       "      <td>65</td>\n",
       "      <td>0.670455</td>\n",
       "      <td>2023-02-27 12:12:48.871915</td>\n",
       "      <td>2023-02-27 12:12:48.976131</td>\n",
       "      <td>0 days 00:00:00.104216</td>\n",
       "      <td>0.912959</td>\n",
       "      <td>4</td>\n",
       "      <td>0.685429</td>\n",
       "      <td>3.899331e-07</td>\n",
       "      <td>0.020021</td>\n",
       "      <td>39</td>\n",
       "      <td>226</td>\n",
       "      <td>COMPLETE</td>\n",
       "    </tr>\n",
       "  </tbody>\n",
       "</table>\n",
       "<p>500 rows × 13 columns</p>\n",
       "</div>"
      ],
      "text/plain": [
       "     number     value             datetime_start          datetime_complete  \\\n",
       "457     457  0.734848 2023-02-27 12:13:33.322045 2023-02-27 12:13:33.453231   \n",
       "499     499  0.731061 2023-02-27 12:13:38.817337 2023-02-27 12:13:38.940260   \n",
       "187     187  0.731061 2023-02-27 12:13:01.539356 2023-02-27 12:13:01.642477   \n",
       "265     265  0.731061 2023-02-27 12:13:10.188796 2023-02-27 12:13:10.302571   \n",
       "282     282  0.727273 2023-02-27 12:13:12.198977 2023-02-27 12:13:12.312232   \n",
       "..      ...       ...                        ...                        ...   \n",
       "0         0  0.678030 2023-02-27 12:12:43.232131 2023-02-27 12:12:43.276191   \n",
       "42       42  0.674242 2023-02-27 12:12:46.769330 2023-02-27 12:12:46.849331   \n",
       "496     496  0.674242 2023-02-27 12:13:38.442133 2023-02-27 12:13:38.564312   \n",
       "236     236  0.674242 2023-02-27 12:13:06.867828 2023-02-27 12:13:06.967489   \n",
       "65       65  0.670455 2023-02-27 12:12:48.871915 2023-02-27 12:12:48.976131   \n",
       "\n",
       "                  duration  params_bagging_fraction  params_bagging_freq  \\\n",
       "457 0 days 00:00:00.131186                 0.915722                    7   \n",
       "499 0 days 00:00:00.122923                 0.498122                    4   \n",
       "187 0 days 00:00:00.103121                 0.817952                    7   \n",
       "265 0 days 00:00:00.113775                 0.905276                    7   \n",
       "282 0 days 00:00:00.113255                 0.885487                    7   \n",
       "..                     ...                      ...                  ...   \n",
       "0   0 days 00:00:00.044060                 0.683181                    2   \n",
       "42  0 days 00:00:00.080001                 0.710146                    2   \n",
       "496 0 days 00:00:00.122179                 0.468369                    7   \n",
       "236 0 days 00:00:00.099661                 0.837164                    4   \n",
       "65  0 days 00:00:00.104216                 0.912959                    4   \n",
       "\n",
       "     params_feature_fraction  params_lambda_l1  params_lambda_l2  \\\n",
       "457                 0.769765      4.763620e-07          0.000141   \n",
       "499                 0.666842      2.766598e-02          0.001684   \n",
       "187                 0.642137      3.110861e-06          0.003207   \n",
       "265                 0.642087      3.164546e-06          0.005366   \n",
       "282                 0.620151      3.056210e-06          0.001782   \n",
       "..                       ...               ...               ...   \n",
       "0                   0.792517      1.157461e-06          0.002972   \n",
       "42                  0.602661      3.081747e-06          0.005003   \n",
       "496                 0.402679      9.010266e-06          0.000014   \n",
       "236                 0.630261      5.297695e-08          0.002366   \n",
       "65                  0.685429      3.899331e-07          0.020021   \n",
       "\n",
       "     params_min_child_samples  params_num_leaves     state  \n",
       "457                        43                118  COMPLETE  \n",
       "499                        52                149  COMPLETE  \n",
       "187                        44                150  COMPLETE  \n",
       "265                        49                103  COMPLETE  \n",
       "282                        47                103  COMPLETE  \n",
       "..                        ...                ...       ...  \n",
       "0                          93                  2  COMPLETE  \n",
       "42                         79                 94  COMPLETE  \n",
       "496                        37                107  COMPLETE  \n",
       "236                        50                  3  COMPLETE  \n",
       "65                         39                226  COMPLETE  \n",
       "\n",
       "[500 rows x 13 columns]"
      ]
     },
     "execution_count": 7,
     "metadata": {},
     "output_type": "execute_result"
    }
   ],
   "source": [
    "jl.trials_dataframe().sort_values(by=[\"value\"],ascending=False)"
   ]
  },
  {
   "cell_type": "code",
   "execution_count": 13,
   "metadata": {},
   "outputs": [],
   "source": [
    "lgb_best_params = jl.best_params"
   ]
  },
  {
   "attachments": {},
   "cell_type": "markdown",
   "metadata": {},
   "source": [
    "##### `Refit` sobre todo el conjunto de Train (datamecum). El conjunto de Test no ha sido proporcionado, pero lo podemos simular via conjunto Kaggle "
   ]
  },
  {
   "cell_type": "code",
   "execution_count": 18,
   "metadata": {},
   "outputs": [],
   "source": [
    "import lightgbm as lgb\n",
    "from lightgbm_telcom_churn import scaler as scl"
   ]
  },
  {
   "cell_type": "code",
   "execution_count": 14,
   "metadata": {},
   "outputs": [],
   "source": [
    "train_datamecum = pd.read_csv(\n",
    "    \"./datamecum_data/cleaned_telcom_churn_construction.csv\"\n",
    ")"
   ]
  },
  {
   "cell_type": "code",
   "execution_count": 20,
   "metadata": {},
   "outputs": [
    {
     "name": "stdout",
     "output_type": "stream",
     "text": [
      "['Customer ID', 'network_age', 'tenure', 'spend_mo12', 'sms_spend', 'data_spend', 'data_consume', 'calls', 'onnet_spend', 'offnet_spend', 'complaint_calls', 'net_type_mo1', 'net_type_mo2', 'competitor_mo1', 'competitor_mo2', 'Churn Status']\n"
     ]
    }
   ],
   "source": [
    "print(train_datamecum.columns.tolist())"
   ]
  },
  {
   "cell_type": "code",
   "execution_count": 21,
   "metadata": {},
   "outputs": [],
   "source": [
    "X = train_datamecum.drop(columns=\"Churn Status\")\n",
    "y = train_datamecum[\"Churn Status\"]"
   ]
  },
  {
   "cell_type": "code",
   "execution_count": 22,
   "metadata": {},
   "outputs": [
    {
     "data": {
      "text/plain": [
       "0       0\n",
       "1       0\n",
       "2       0\n",
       "3       0\n",
       "4       0\n",
       "       ..\n",
       "1051    0\n",
       "1052    0\n",
       "1053    0\n",
       "1054    0\n",
       "1055    0\n",
       "Name: Churn Status, Length: 1056, dtype: int64"
      ]
     },
     "execution_count": 22,
     "metadata": {},
     "output_type": "execute_result"
    }
   ],
   "source": [
    "y"
   ]
  },
  {
   "cell_type": "code",
   "execution_count": 23,
   "metadata": {},
   "outputs": [],
   "source": [
    "scaler = scl(X)\n",
    "X = scaler.fit_transform(X)"
   ]
  },
  {
   "cell_type": "code",
   "execution_count": 28,
   "metadata": {},
   "outputs": [],
   "source": [
    "dtrain = lgb.Dataset(X, label=y)"
   ]
  },
  {
   "cell_type": "code",
   "execution_count": 30,
   "metadata": {},
   "outputs": [
    {
     "data": {
      "text/plain": [
       "{'lambda_l1': 4.7636197832915546e-07,\n",
       " 'lambda_l2': 0.00014095790951285922,\n",
       " 'num_leaves': 118,\n",
       " 'feature_fraction': 0.7697649236404007,\n",
       " 'bagging_fraction': 0.9157223333068747,\n",
       " 'bagging_freq': 7,\n",
       " 'min_child_samples': 43}"
      ]
     },
     "execution_count": 30,
     "metadata": {},
     "output_type": "execute_result"
    }
   ],
   "source": [
    "lgb_best_params"
   ]
  },
  {
   "cell_type": "code",
   "execution_count": null,
   "metadata": {},
   "outputs": [],
   "source": [
    "import sklearn.metrics"
   ]
  },
  {
   "cell_type": "code",
   "execution_count": 119,
   "metadata": {},
   "outputs": [
    {
     "data": {
      "text/plain": [
       "{'lambda_l1': 4.7636197832915546e-07,\n",
       " 'lambda_l2': 0.00014095790951285922,\n",
       " 'num_leaves': 118,\n",
       " 'feature_fraction': 0.7697649236404007,\n",
       " 'bagging_fraction': 0.9157223333068747,\n",
       " 'bagging_freq': 7,\n",
       " 'min_child_samples': 43,\n",
       " 'objective': 'binary',\n",
       " 'metric': 'binary_logloss',\n",
       " 'verbosity': -1,\n",
       " 'boosting_type': 'gbdt',\n",
       " 'feature_pre_filter': False}"
      ]
     },
     "execution_count": 119,
     "metadata": {},
     "output_type": "execute_result"
    }
   ],
   "source": [
    "fixed_params = {\n",
    "        \"objective\": \"binary\",\n",
    "        \"metric\": \"binary_logloss\",\n",
    "        \"verbosity\": -1,\n",
    "        \"boosting_type\": \"gbdt\",\n",
    "        \"feature_pre_filter\" : False\n",
    "}\n",
    "\n",
    "lgb_best_params.update(fixed_params)\n",
    "lgb_best_params"
   ]
  },
  {
   "cell_type": "code",
   "execution_count": 36,
   "metadata": {},
   "outputs": [],
   "source": [
    "gbm = lgb.train(lgb_best_params, dtrain)"
   ]
  },
  {
   "cell_type": "code",
   "execution_count": 37,
   "metadata": {},
   "outputs": [],
   "source": [
    "preds = gbm.predict(X)\n",
    "pred_labels = np.rint(preds)\n",
    "accuracy = sklearn.metrics.accuracy_score(y, pred_labels)"
   ]
  },
  {
   "cell_type": "code",
   "execution_count": 38,
   "metadata": {},
   "outputs": [
    {
     "data": {
      "text/plain": [
       "0.9412878787878788"
      ]
     },
     "execution_count": 38,
     "metadata": {},
     "output_type": "execute_result"
    }
   ],
   "source": [
    "accuracy"
   ]
  },
  {
   "cell_type": "code",
   "execution_count": 39,
   "metadata": {},
   "outputs": [
    {
     "name": "stdout",
     "output_type": "stream",
     "text": [
      "Variable          Type         Data/Info\n",
      "----------------------------------------\n",
      "train_datamecum   DataFrame         Customer ID  network<...>n[1056 rows x 16 columns]\n"
     ]
    }
   ],
   "source": [
    "%whos DataFrame"
   ]
  },
  {
   "cell_type": "code",
   "execution_count": 40,
   "metadata": {},
   "outputs": [
    {
     "data": {
      "text/plain": [
       "0       ADF0039\n",
       "1       ADF0041\n",
       "2       ADF0051\n",
       "3       ADF0060\n",
       "4       ADF0066\n",
       "         ...   \n",
       "1051    ADF1290\n",
       "1052    ADF1302\n",
       "1053    ADF1304\n",
       "1054    ADF1308\n",
       "1055    ADF1313\n",
       "Name: Customer ID, Length: 1056, dtype: object"
      ]
     },
     "execution_count": 40,
     "metadata": {},
     "output_type": "execute_result"
    }
   ],
   "source": [
    "train_datamecum[\"Customer ID\"]"
   ]
  },
  {
   "cell_type": "code",
   "execution_count": 41,
   "metadata": {},
   "outputs": [
    {
     "data": {
      "text/plain": [
       "0       ADF0039\n",
       "1       ADF0041\n",
       "2       ADF0051\n",
       "3       ADF0059\n",
       "4       ADF0060\n",
       "         ...   \n",
       "1194    ADF1975\n",
       "1195    ADF1978\n",
       "1196    ADF1979\n",
       "1197    ADF1985\n",
       "1198    ADF1995\n",
       "Name: Customer ID, Length: 1199, dtype: object"
      ]
     },
     "execution_count": 41,
     "metadata": {},
     "output_type": "execute_result"
    }
   ],
   "source": [
    "train_kaggle = pd.read_csv(\n",
    "    \"./kaggle_data/cleaned_train.csv\"\n",
    ")\n",
    "\n",
    "train_kaggle[\"Customer ID\"]"
   ]
  },
  {
   "cell_type": "code",
   "execution_count": 56,
   "metadata": {},
   "outputs": [],
   "source": [
    "clients_in_datamecum_train = [client for client in train_datamecum[\"Customer ID\"].values.tolist()]\n",
    "clients_in_kaggle_Train = [c for c in train_kaggle[\"Customer ID\"].values.tolist()]\n",
    "\n",
    "clients_test_datamecum = [c for c in clients_in_kaggle_Train if c not in clients_in_datamecum_train]"
   ]
  },
  {
   "cell_type": "code",
   "execution_count": 59,
   "metadata": {},
   "outputs": [],
   "source": [
    "test_datamecum = train_kaggle[train_kaggle[\"Customer ID\"].isin(clients_test_datamecum)]"
   ]
  },
  {
   "cell_type": "code",
   "execution_count": 61,
   "metadata": {},
   "outputs": [
    {
     "data": {
      "text/html": [
       "<div>\n",
       "<style scoped>\n",
       "    .dataframe tbody tr th:only-of-type {\n",
       "        vertical-align: middle;\n",
       "    }\n",
       "\n",
       "    .dataframe tbody tr th {\n",
       "        vertical-align: top;\n",
       "    }\n",
       "\n",
       "    .dataframe thead th {\n",
       "        text-align: right;\n",
       "    }\n",
       "</style>\n",
       "<table border=\"1\" class=\"dataframe\">\n",
       "  <thead>\n",
       "    <tr style=\"text-align: right;\">\n",
       "      <th></th>\n",
       "      <th>Customer ID</th>\n",
       "      <th>network_age</th>\n",
       "      <th>Customer tenure in month</th>\n",
       "      <th>spend_mo12</th>\n",
       "      <th>Total SMS Spend</th>\n",
       "      <th>Total Data Spend</th>\n",
       "      <th>Total Data Consumption</th>\n",
       "      <th>Total Unique Calls</th>\n",
       "      <th>Total Onnet spend</th>\n",
       "      <th>Total Offnet spend</th>\n",
       "      <th>complaint_calls</th>\n",
       "      <th>Network type subscription in Month 1</th>\n",
       "      <th>Network type subscription in Month 2</th>\n",
       "      <th>Most Loved Competitor network in in Month 1</th>\n",
       "      <th>Most Loved Competitor network in in Month 2</th>\n",
       "      <th>Churn Status</th>\n",
       "    </tr>\n",
       "  </thead>\n",
       "  <tbody>\n",
       "    <tr>\n",
       "      <th>3</th>\n",
       "      <td>ADF0059</td>\n",
       "      <td>1614.0</td>\n",
       "      <td>53.80</td>\n",
       "      <td>530.2000</td>\n",
       "      <td>6.85</td>\n",
       "      <td>1.25</td>\n",
       "      <td>3.344700e+00</td>\n",
       "      <td>69.0</td>\n",
       "      <td>6822.0</td>\n",
       "      <td>6274.0</td>\n",
       "      <td>1.0</td>\n",
       "      <td>2G</td>\n",
       "      <td>2G</td>\n",
       "      <td>0</td>\n",
       "      <td>Mango</td>\n",
       "      <td>0.0</td>\n",
       "    </tr>\n",
       "    <tr>\n",
       "      <th>148</th>\n",
       "      <td>ADF1211</td>\n",
       "      <td>3340.0</td>\n",
       "      <td>111.33</td>\n",
       "      <td>566.6600</td>\n",
       "      <td>0.00</td>\n",
       "      <td>0.00</td>\n",
       "      <td>2.871655e+05</td>\n",
       "      <td>210.0</td>\n",
       "      <td>502.0</td>\n",
       "      <td>920.0</td>\n",
       "      <td>1.0</td>\n",
       "      <td>2G</td>\n",
       "      <td>3G</td>\n",
       "      <td>0</td>\n",
       "      <td>Uxaa</td>\n",
       "      <td>0.0</td>\n",
       "    </tr>\n",
       "    <tr>\n",
       "      <th>159</th>\n",
       "      <td>ADF1269</td>\n",
       "      <td>3667.0</td>\n",
       "      <td>122.23</td>\n",
       "      <td>716.1000</td>\n",
       "      <td>24.12</td>\n",
       "      <td>1.25</td>\n",
       "      <td>2.969000e-01</td>\n",
       "      <td>89.0</td>\n",
       "      <td>34344.0</td>\n",
       "      <td>8592.0</td>\n",
       "      <td>4.0</td>\n",
       "      <td>2G</td>\n",
       "      <td>2G</td>\n",
       "      <td>0</td>\n",
       "      <td>Uxaa</td>\n",
       "      <td>0.0</td>\n",
       "    </tr>\n",
       "    <tr>\n",
       "      <th>209</th>\n",
       "      <td>ADF1514</td>\n",
       "      <td>3621.0</td>\n",
       "      <td>120.70</td>\n",
       "      <td>1235.2900</td>\n",
       "      <td>45.35</td>\n",
       "      <td>0.00</td>\n",
       "      <td>8.571758e+02</td>\n",
       "      <td>561.0</td>\n",
       "      <td>900.0</td>\n",
       "      <td>6193.0</td>\n",
       "      <td>2.0</td>\n",
       "      <td>2G</td>\n",
       "      <td>2G</td>\n",
       "      <td>0</td>\n",
       "      <td>Uxaa</td>\n",
       "      <td>0.0</td>\n",
       "    </tr>\n",
       "    <tr>\n",
       "      <th>278</th>\n",
       "      <td>ADF1825</td>\n",
       "      <td>431.0</td>\n",
       "      <td>14.37</td>\n",
       "      <td>2127.9144</td>\n",
       "      <td>79.49</td>\n",
       "      <td>62.50</td>\n",
       "      <td>1.308236e+06</td>\n",
       "      <td>779.0</td>\n",
       "      <td>7866.0</td>\n",
       "      <td>79394.0</td>\n",
       "      <td>2.0</td>\n",
       "      <td>2G</td>\n",
       "      <td>3G</td>\n",
       "      <td>0</td>\n",
       "      <td>Uxaa</td>\n",
       "      <td>1.0</td>\n",
       "    </tr>\n",
       "  </tbody>\n",
       "</table>\n",
       "</div>"
      ],
      "text/plain": [
       "    Customer ID  network_age  Customer tenure in month  spend_mo12  \\\n",
       "3       ADF0059       1614.0                     53.80    530.2000   \n",
       "148     ADF1211       3340.0                    111.33    566.6600   \n",
       "159     ADF1269       3667.0                    122.23    716.1000   \n",
       "209     ADF1514       3621.0                    120.70   1235.2900   \n",
       "278     ADF1825        431.0                     14.37   2127.9144   \n",
       "\n",
       "     Total SMS Spend  Total Data Spend  Total Data Consumption  \\\n",
       "3               6.85              1.25            3.344700e+00   \n",
       "148             0.00              0.00            2.871655e+05   \n",
       "159            24.12              1.25            2.969000e-01   \n",
       "209            45.35              0.00            8.571758e+02   \n",
       "278            79.49             62.50            1.308236e+06   \n",
       "\n",
       "     Total Unique Calls  Total Onnet spend   Total Offnet spend  \\\n",
       "3                  69.0              6822.0              6274.0   \n",
       "148               210.0               502.0               920.0   \n",
       "159                89.0             34344.0              8592.0   \n",
       "209               561.0               900.0              6193.0   \n",
       "278               779.0              7866.0             79394.0   \n",
       "\n",
       "     complaint_calls Network type subscription in Month 1  \\\n",
       "3                1.0                                   2G   \n",
       "148              1.0                                   2G   \n",
       "159              4.0                                   2G   \n",
       "209              2.0                                   2G   \n",
       "278              2.0                                   2G   \n",
       "\n",
       "    Network type subscription in Month 2  \\\n",
       "3                                     2G   \n",
       "148                                   3G   \n",
       "159                                   2G   \n",
       "209                                   2G   \n",
       "278                                   3G   \n",
       "\n",
       "    Most Loved Competitor network in in Month 1  \\\n",
       "3                                             0   \n",
       "148                                           0   \n",
       "159                                           0   \n",
       "209                                           0   \n",
       "278                                           0   \n",
       "\n",
       "    Most Loved Competitor network in in Month 2  Churn Status  \n",
       "3                                         Mango           0.0  \n",
       "148                                        Uxaa           0.0  \n",
       "159                                        Uxaa           0.0  \n",
       "209                                        Uxaa           0.0  \n",
       "278                                        Uxaa           1.0  "
      ]
     },
     "execution_count": 61,
     "metadata": {},
     "output_type": "execute_result"
    }
   ],
   "source": [
    "test_datamecum.head()"
   ]
  },
  {
   "cell_type": "code",
   "execution_count": 62,
   "metadata": {},
   "outputs": [],
   "source": [
    "X_test = test_datamecum.drop(columns=[\"Churn Status\"])\n",
    "y_test = test_datamecum[\"Churn Status\"]"
   ]
  },
  {
   "cell_type": "code",
   "execution_count": 67,
   "metadata": {},
   "outputs": [
    {
     "data": {
      "text/plain": [
       "Index(['Customer ID', 'network_age', 'tenure', 'spend_mo12', 'sms_spend',\n",
       "       'data_spend', 'data_consume', 'calls', 'onnet_spend', 'offnet_spend',\n",
       "       'complaint_calls', 'net_type_mo1', 'net_type_mo2', 'competitor_mo1',\n",
       "       'competitor_mo2'],\n",
       "      dtype='object')"
      ]
     },
     "execution_count": 67,
     "metadata": {},
     "output_type": "execute_result"
    }
   ],
   "source": [
    "X_test.columns = train_datamecum.columns.tolist()[:-1]\n",
    "X_test.columns"
   ]
  },
  {
   "cell_type": "code",
   "execution_count": 68,
   "metadata": {},
   "outputs": [
    {
     "data": {
      "text/plain": [
       "array([[ 0.3886742 , -0.30087826, -0.88312607, ...,  0.79135305,\n",
       "         0.18509852,  1.        ],\n",
       "       [ 1.25520247, -1.55768456, -1.39916193, ..., -0.18554265,\n",
       "        -0.72041275,  1.        ],\n",
       "       [ 1.37965105,  0.4737784 , -0.88312607, ...,  1.60010657,\n",
       "         0.35660278,  4.        ],\n",
       "       ...,\n",
       "       [-1.59706212, -1.55768456,  0.39376193, ..., -1.48181948,\n",
       "        -0.22264278,  1.        ],\n",
       "       [ 0.2098268 ,  0.5740989 , -0.61422276, ...,  0.02722745,\n",
       "         0.4595698 ,  1.        ],\n",
       "       [-1.40169309,  0.43210374, -0.1890147 , ...,  1.04138685,\n",
       "         1.67770574,  1.        ]])"
      ]
     },
     "execution_count": 68,
     "metadata": {},
     "output_type": "execute_result"
    }
   ],
   "source": [
    "valid_x = scaler.transform(X_test)\n",
    "valid_x"
   ]
  },
  {
   "cell_type": "code",
   "execution_count": 69,
   "metadata": {},
   "outputs": [
    {
     "data": {
      "text/plain": [
       "<lightgbm.basic.Booster at 0x7fcec8e2d0a0>"
      ]
     },
     "execution_count": 69,
     "metadata": {},
     "output_type": "execute_result"
    }
   ],
   "source": [
    "gbm"
   ]
  },
  {
   "cell_type": "code",
   "execution_count": 71,
   "metadata": {},
   "outputs": [],
   "source": [
    "test_preds = gbm.predict(valid_x)\n",
    "test_pred_labels = np.rint(test_preds)\n",
    "accuracy = sklearn.metrics.accuracy_score(y_test, test_pred_labels)"
   ]
  },
  {
   "cell_type": "code",
   "execution_count": 72,
   "metadata": {},
   "outputs": [
    {
     "data": {
      "text/plain": [
       "0.6643356643356644"
      ]
     },
     "execution_count": 72,
     "metadata": {},
     "output_type": "execute_result"
    }
   ],
   "source": [
    "accuracy"
   ]
  },
  {
   "cell_type": "code",
   "execution_count": 73,
   "metadata": {},
   "outputs": [
    {
     "data": {
      "text/plain": [
       "{'lambda_l1': 4.7636197832915546e-07,\n",
       " 'lambda_l2': 0.00014095790951285922,\n",
       " 'num_leaves': 118,\n",
       " 'feature_fraction': 0.7697649236404007,\n",
       " 'bagging_fraction': 0.9157223333068747,\n",
       " 'bagging_freq': 7,\n",
       " 'min_child_samples': 43,\n",
       " 'objective': 'binary',\n",
       " 'metric': 'binary_logloss',\n",
       " 'verbosity': -1,\n",
       " 'boosting_type': 'gbdt',\n",
       " 'num_iterations': 100,\n",
       " 'early_stopping_round': None}"
      ]
     },
     "execution_count": 73,
     "metadata": {},
     "output_type": "execute_result"
    }
   ],
   "source": [
    "gbm.params"
   ]
  },
  {
   "attachments": {},
   "cell_type": "markdown",
   "metadata": {},
   "source": [
    "#### Run II"
   ]
  },
  {
   "cell_type": "code",
   "execution_count": 88,
   "metadata": {},
   "outputs": [
    {
     "data": {
      "text/plain": [
       "{'max_depth': 8,\n",
       " 'num_leaves': 1741,\n",
       " 'lambda_l1': 0.002034992742114325,\n",
       " 'lambda_l2': 0.051899688418323375,\n",
       " 'feature_fraction': 0.9657196674570263,\n",
       " 'bagging_fraction': 0.7331080027978967,\n",
       " 'bagging_freq': 3,\n",
       " 'min_child_samples': 11,\n",
       " 'objective': 'binary',\n",
       " 'metric': 'binary_logloss',\n",
       " 'verbosity': -1,\n",
       " 'boosting_type': 'gbdt'}"
      ]
     },
     "execution_count": 88,
     "metadata": {},
     "output_type": "execute_result"
    }
   ],
   "source": [
    "jl = joblib.load(\"optuna_runs/20230227_1722_lgb_optuna_study_batch.pkl\")\n",
    "params = jl.best_params\n",
    "params.update(fixed_params)\n",
    "params"
   ]
  },
  {
   "cell_type": "code",
   "execution_count": 89,
   "metadata": {},
   "outputs": [],
   "source": [
    "dtrain = lgb.Dataset(X, label=y)\n",
    "lgb.train(params, dtrain)"
   ]
  },
  {
   "cell_type": "code",
   "execution_count": 93,
   "metadata": {},
   "outputs": [
    {
     "name": "stdout",
     "output_type": "stream",
     "text": [
      "Accuracy on Train 0.9412878787878788\n"
     ]
    }
   ],
   "source": [
    "preds = gbm.predict(X)\n",
    "pred_labels = np.rint(preds)\n",
    "accuracy = sklearn.metrics.accuracy_score(y, pred_labels)\n",
    "print(f\"Accuracy on Train {accuracy}\")"
   ]
  },
  {
   "cell_type": "code",
   "execution_count": 94,
   "metadata": {},
   "outputs": [
    {
     "name": "stdout",
     "output_type": "stream",
     "text": [
      "Variable          Type         Data/Info\n",
      "----------------------------------------\n",
      "X_test            DataFrame         Customer ID  network<...>\\n[143 rows x 15 columns]\n",
      "test_datamecum    DataFrame         Customer ID  network<...>\\n[143 rows x 16 columns]\n",
      "train_datamecum   DataFrame         Customer ID  network<...>n[1056 rows x 16 columns]\n",
      "train_kaggle      DataFrame         Customer ID  network<...>n[1199 rows x 16 columns]\n"
     ]
    }
   ],
   "source": [
    "%whos DataFrame"
   ]
  },
  {
   "cell_type": "code",
   "execution_count": 98,
   "metadata": {},
   "outputs": [
    {
     "name": "stdout",
     "output_type": "stream",
     "text": [
      "Accuracy on Test 0.6643356643356644\n"
     ]
    }
   ],
   "source": [
    "\n",
    "test_preds = gbm.predict(valid_x)\n",
    "test_pred_labels = np.rint(test_preds)\n",
    "real_world_accuracy = sklearn.metrics.accuracy_score(y_test, test_pred_labels)\n",
    "print(f\"Accuracy on Test {real_world_accuracy}\")"
   ]
  },
  {
   "cell_type": "code",
   "execution_count": 99,
   "metadata": {},
   "outputs": [],
   "source": [
    "import os\n",
    "\n",
    "def get_files(path):\n",
    "    for file in os.listdir(path):\n",
    "        if os.path.isfile(os.path.join(path, file)):\n",
    "            yield file"
   ]
  },
  {
   "cell_type": "code",
   "execution_count": 117,
   "metadata": {},
   "outputs": [
    {
     "data": {
      "text/plain": [
       "['20230227_1855_lgb_optuna_study_batch.pkl',\n",
       " '20230227_1722_lgb_optuna_study_batch.pkl',\n",
       " '20230227_1857_lgb_optuna_study_batch.pkl',\n",
       " '20230227_1754_lgb_optuna_study_batch.pkl']"
      ]
     },
     "execution_count": 117,
     "metadata": {},
     "output_type": "execute_result"
    }
   ],
   "source": [
    "list(get_files(\"./optuna_runs/\"))"
   ]
  },
  {
   "attachments": {},
   "cell_type": "markdown",
   "metadata": {},
   "source": [
    "#### Looping Optuna Runs Over the Same (`lgb`) Boosting Model"
   ]
  },
  {
   "cell_type": "code",
   "execution_count": 121,
   "metadata": {},
   "outputs": [],
   "source": [
    "RUNS_PATH = \"./optuna_runs\"\n",
    "\n",
    "train_accuracies = list()\n",
    "test_accuracies = list()\n",
    "best_params = list()\n",
    "\n",
    "# Initializing lgb Dataset for Train is external to Params\n",
    "\n",
    "for run in list(get_files(RUNS_PATH)):\n",
    "    jl = joblib.load(RUNS_PATH + \"/\" + run)\n",
    "    params = jl.best_params\n",
    "    best_params.append(params)\n",
    "    params.update(fixed_params)\n",
    "    dtrain = lgb.Dataset(X,label=y)\n",
    "\n",
    "    # Refit\n",
    "    gbm = lgb.train(params, dtrain)\n",
    "    # Metrics on Train\n",
    "    preds = gbm.predict(X)\n",
    "    pred_labels = np.rint(preds)\n",
    "    train_accuracies.append(sklearn.metrics.accuracy_score(y, pred_labels))\n",
    "    # Metrics on Test (Real-World)\n",
    "    test_preds = gbm.predict(valid_x)\n",
    "    test_pred_labels = np.rint(test_preds)\n",
    "    test_accuracies.append(sklearn.metrics.accuracy_score(y_test, test_pred_labels))"
   ]
  },
  {
   "cell_type": "code",
   "execution_count": 122,
   "metadata": {},
   "outputs": [
    {
     "data": {
      "text/plain": [
       "[0.7604166666666666, 1.0, 0.7481060606060606, 0.8522727272727273]"
      ]
     },
     "execution_count": 122,
     "metadata": {},
     "output_type": "execute_result"
    }
   ],
   "source": [
    "train_accuracies"
   ]
  },
  {
   "cell_type": "code",
   "execution_count": 123,
   "metadata": {},
   "outputs": [
    {
     "data": {
      "text/plain": [
       "[0.6363636363636364,\n",
       " 0.7062937062937062,\n",
       " 0.6433566433566433,\n",
       " 0.6783216783216783]"
      ]
     },
     "execution_count": 123,
     "metadata": {},
     "output_type": "execute_result"
    }
   ],
   "source": [
    "test_accuracies"
   ]
  },
  {
   "cell_type": "code",
   "execution_count": 124,
   "metadata": {},
   "outputs": [
    {
     "data": {
      "text/html": [
       "<div>\n",
       "<style scoped>\n",
       "    .dataframe tbody tr th:only-of-type {\n",
       "        vertical-align: middle;\n",
       "    }\n",
       "\n",
       "    .dataframe tbody tr th {\n",
       "        vertical-align: top;\n",
       "    }\n",
       "\n",
       "    .dataframe thead th {\n",
       "        text-align: right;\n",
       "    }\n",
       "</style>\n",
       "<table border=\"1\" class=\"dataframe\">\n",
       "  <thead>\n",
       "    <tr style=\"text-align: right;\">\n",
       "      <th></th>\n",
       "      <th>learning_rate</th>\n",
       "      <th>num_leaves</th>\n",
       "      <th>max_depth</th>\n",
       "      <th>min_data_in_leaf</th>\n",
       "      <th>max_bin</th>\n",
       "      <th>lambda_l1</th>\n",
       "      <th>lambda_l2</th>\n",
       "      <th>min_gain_to_split</th>\n",
       "      <th>bagging_fraction</th>\n",
       "      <th>feature_fraction</th>\n",
       "      <th>bagging_freq</th>\n",
       "      <th>objective</th>\n",
       "      <th>metric</th>\n",
       "      <th>verbosity</th>\n",
       "      <th>boosting_type</th>\n",
       "      <th>feature_pre_filter</th>\n",
       "      <th>min_child_samples</th>\n",
       "    </tr>\n",
       "  </thead>\n",
       "  <tbody>\n",
       "    <tr>\n",
       "      <th>0</th>\n",
       "      <td>0.213237</td>\n",
       "      <td>1020</td>\n",
       "      <td>3</td>\n",
       "      <td>200.0</td>\n",
       "      <td>259.0</td>\n",
       "      <td>0.325543</td>\n",
       "      <td>1.651034e-07</td>\n",
       "      <td>1.767725</td>\n",
       "      <td>0.800000</td>\n",
       "      <td>0.700000</td>\n",
       "      <td>7</td>\n",
       "      <td>binary</td>\n",
       "      <td>binary_logloss</td>\n",
       "      <td>-1</td>\n",
       "      <td>gbdt</td>\n",
       "      <td>False</td>\n",
       "      <td>NaN</td>\n",
       "    </tr>\n",
       "    <tr>\n",
       "      <th>1</th>\n",
       "      <td>NaN</td>\n",
       "      <td>1741</td>\n",
       "      <td>8</td>\n",
       "      <td>NaN</td>\n",
       "      <td>NaN</td>\n",
       "      <td>0.002035</td>\n",
       "      <td>5.189969e-02</td>\n",
       "      <td>NaN</td>\n",
       "      <td>0.733108</td>\n",
       "      <td>0.965720</td>\n",
       "      <td>3</td>\n",
       "      <td>binary</td>\n",
       "      <td>binary_logloss</td>\n",
       "      <td>-1</td>\n",
       "      <td>gbdt</td>\n",
       "      <td>False</td>\n",
       "      <td>11.0</td>\n",
       "    </tr>\n",
       "    <tr>\n",
       "      <th>2</th>\n",
       "      <td>0.126541</td>\n",
       "      <td>500</td>\n",
       "      <td>4</td>\n",
       "      <td>200.0</td>\n",
       "      <td>237.0</td>\n",
       "      <td>0.000599</td>\n",
       "      <td>6.838286e+00</td>\n",
       "      <td>5.626694</td>\n",
       "      <td>0.800000</td>\n",
       "      <td>0.700000</td>\n",
       "      <td>5</td>\n",
       "      <td>binary</td>\n",
       "      <td>binary_logloss</td>\n",
       "      <td>-1</td>\n",
       "      <td>gbdt</td>\n",
       "      <td>False</td>\n",
       "      <td>NaN</td>\n",
       "    </tr>\n",
       "    <tr>\n",
       "      <th>3</th>\n",
       "      <td>NaN</td>\n",
       "      <td>29</td>\n",
       "      <td>8</td>\n",
       "      <td>NaN</td>\n",
       "      <td>NaN</td>\n",
       "      <td>0.024842</td>\n",
       "      <td>1.498194e+00</td>\n",
       "      <td>NaN</td>\n",
       "      <td>0.633922</td>\n",
       "      <td>0.977856</td>\n",
       "      <td>4</td>\n",
       "      <td>binary</td>\n",
       "      <td>binary_logloss</td>\n",
       "      <td>-1</td>\n",
       "      <td>gbdt</td>\n",
       "      <td>False</td>\n",
       "      <td>60.0</td>\n",
       "    </tr>\n",
       "  </tbody>\n",
       "</table>\n",
       "</div>"
      ],
      "text/plain": [
       "   learning_rate  num_leaves  max_depth  min_data_in_leaf  max_bin  lambda_l1  \\\n",
       "0       0.213237        1020          3             200.0    259.0   0.325543   \n",
       "1            NaN        1741          8               NaN      NaN   0.002035   \n",
       "2       0.126541         500          4             200.0    237.0   0.000599   \n",
       "3            NaN          29          8               NaN      NaN   0.024842   \n",
       "\n",
       "      lambda_l2  min_gain_to_split  bagging_fraction  feature_fraction  \\\n",
       "0  1.651034e-07           1.767725          0.800000          0.700000   \n",
       "1  5.189969e-02                NaN          0.733108          0.965720   \n",
       "2  6.838286e+00           5.626694          0.800000          0.700000   \n",
       "3  1.498194e+00                NaN          0.633922          0.977856   \n",
       "\n",
       "   bagging_freq objective          metric  verbosity boosting_type  \\\n",
       "0             7    binary  binary_logloss         -1          gbdt   \n",
       "1             3    binary  binary_logloss         -1          gbdt   \n",
       "2             5    binary  binary_logloss         -1          gbdt   \n",
       "3             4    binary  binary_logloss         -1          gbdt   \n",
       "\n",
       "   feature_pre_filter  min_child_samples  \n",
       "0               False                NaN  \n",
       "1               False               11.0  \n",
       "2               False                NaN  \n",
       "3               False               60.0  "
      ]
     },
     "execution_count": 124,
     "metadata": {},
     "output_type": "execute_result"
    }
   ],
   "source": [
    "pd.DataFrame(best_params)"
   ]
  },
  {
   "cell_type": "code",
   "execution_count": null,
   "metadata": {},
   "outputs": [],
   "source": []
  }
 ],
 "metadata": {
  "kernelspec": {
   "display_name": "ml-nongpu",
   "language": "python",
   "name": "python3"
  },
  "language_info": {
   "codemirror_mode": {
    "name": "ipython",
    "version": 3
   },
   "file_extension": ".py",
   "mimetype": "text/x-python",
   "name": "python",
   "nbconvert_exporter": "python",
   "pygments_lexer": "ipython3",
   "version": "3.9.15"
  },
  "orig_nbformat": 4,
  "vscode": {
   "interpreter": {
    "hash": "f8b432cbb13cf56875385c5ac4c3c10a35cc794cf8d879134a146933c91d7a7f"
   }
  }
 },
 "nbformat": 4,
 "nbformat_minor": 2
}
